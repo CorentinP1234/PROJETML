{
 "cells": [
  {
   "cell_type": "markdown",
   "id": "53e4c674-1af2-4295-bfb2-b9216507abee",
   "metadata": {},
   "source": [
    "# 5 Evaluation des modeles \n",
    "Les modeles seront ´evalu´es en utilisant des m´etriques relatives a la r  ´egression telles que :\n",
    "\n",
    "* corr´elation de Spearman, https://docs.scipy.org/doc/scipy/reference/generated/scipy.stats.spearmanr.html\n",
    "* coefficient de d´etermination R2\n",
    "* erreur quadratique moyenne (RMSE).\n",
    "Au cours de cette phase vous devez :\n",
    "1. Optimiser chaque modele : Varier les hyperparametres de chaque modele et retenir ceux qui aboutissent\n",
    "aux meilleurs performances.\n",
    "2. Comparaison des diff´erents modeles : Comparer les performances des algorithmes de pr´ediction des\n",
    "donn´ees et choisir le plus performant en effectuant un classement.\n",
    "3. Pour le meilleur modele retenu, ´evaluer l’importance des variables (attributs) qui ont about a la meilleure \n",
    "pr´ediction (Evaluez l’importance des variables, How to Calculate Feature Importance With Python,\n",
    "Feature importance, Feature Importance Explained)\n",
    "https://datacorner.fr/feature-importance/"
   ]
  },
  {
   "cell_type": "code",
   "execution_count": null,
   "id": "10cd640c-9482-4a9e-902c-7a3c2ffa6a27",
   "metadata": {},
   "outputs": [],
   "source": []
  }
 ],
 "metadata": {
  "kernelspec": {
   "display_name": "Python 3 (ipykernel)",
   "language": "python",
   "name": "python3"
  },
  "language_info": {
   "codemirror_mode": {
    "name": "ipython",
    "version": 3
   },
   "file_extension": ".py",
   "mimetype": "text/x-python",
   "name": "python",
   "nbconvert_exporter": "python",
   "pygments_lexer": "ipython3",
   "version": "3.9.13"
  }
 },
 "nbformat": 4,
 "nbformat_minor": 5
}
