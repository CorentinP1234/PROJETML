{
 "cells": [
  {
   "cell_type": "markdown",
   "id": "53e4c674-1af2-4295-bfb2-b9216507abee",
   "metadata": {},
   "source": [
    "# 5 Evaluation des modeles \n"
   ]
  },
  {
   "cell_type": "markdown",
   "id": "fa7f4f44-8ea7-4b9c-8c38-69fc4656a080",
   "metadata": {},
   "source": [
    "Lors de l'evaultion des models de predictions, on utilise differents indicateurs appelé metriques pour analyser la performance du modéle. \n",
    "Nous allons utiliser trois différents métriques pour évaluer les modèles de machine learning décrit dans la parite 4. Car chaque métrique fournit une mesure différente de la performance du modèle et peut donner des informations supplémentaires sur les forces et les faiblesses du modèle.<br>\n",
    "Nous allons utilier l'erreur quadratique moyenne (RMSE), le coefficient de détermination R2 et le coefficient de corrélation de Spearman. "
   ]
  },
  {
   "cell_type": "markdown",
   "id": "26393bc4-b80b-4801-938a-a8711b11435d",
   "metadata": {},
   "source": [
    "### RMSE : L'erreur quadratique moyenne "
   ]
  },
  {
   "cell_type": "markdown",
   "id": "df94ccee-eea8-4045-a503-82b3333f0de8",
   "metadata": {},
   "source": [
    "Le RMSE est une mesure de l'erreur moyenne quadratique entre les valeurs prédites et les valeurs réelles. Il s'agit de la racine carrée de la moyenne des erreurs quadratiques, ce qui permet de quantifier la différence entre les valeurs prédites et observées. Un RMSE plus faible indique une meilleure précision du modèle. Toutefois, le RMSE étant sensible aux valeurs extrêmes, il peut parfois donner une image trompeuse de la performance d'un modèle."
   ]
  },
  {
   "cell_type": "markdown",
   "id": "e93f529e-277d-47da-bed1-c23e6ae4d438",
   "metadata": {},
   "source": [
    "### R2 : Coefficient de détermination"
   ]
  },
  {
   "cell_type": "markdown",
   "id": "320ae4ad-a57a-478a-96a6-1266cc491c93",
   "metadata": {},
   "source": [
    "Le R2 est une mesure statistique qui indique la proportion de la variance des données expliquée par le modèle de régression. Il varie entre 0 et 1, où 1 indique que le modèle explique parfaitement la variance des données et 0 signifie qu'il n'explique pas du tout la variance. Un R2 élevé (proche de 1) indique que le modèle s'ajuste bien aux données, tandis qu'un R2 faible (proche 0) suggère un ajustement médiocre."
   ]
  },
  {
   "cell_type": "markdown",
   "id": "ab12f3c4-5e1e-4cab-bd58-2cd1c7009083",
   "metadata": {},
   "source": [
    "### Coefficient de corrélation de Spearman "
   ]
  },
  {
   "cell_type": "markdown",
   "id": "90ecc1d4-6723-4d0c-aea0-5f29c05761fe",
   "metadata": {},
   "source": [
    "Le coefficient de corrélation de Spearman mesure la force et la direction de la relation monotone entre deux variables. Il varie entre -1 et 1. Une valeur proche de 1 indique une relation monotone positive forte entre les variables, tandis qu'une valeur proche de -1 indique une relation monotone négative forte. Une valeur proche de 0 suggère l'absence de corrélation monotone. Contrairement à la corrélation de Pearson, le coefficient de Spearman est moins sensible aux valeurs extrêmes et peut être utilisé pour évaluer la relation entre des variables non linéaires."
   ]
  },
  {
   "cell_type": "markdown",
   "id": "4f9ce5b2-84c7-4074-b51e-1116e048e2a6",
   "metadata": {},
   "source": [
    "## Réalisation"
   ]
  },
  {
   "cell_type": "markdown",
   "id": "9b9c4c52-050d-40b4-990e-d5349e1e8b9a",
   "metadata": {},
   "source": [
    "Nous allons realiser les differents modeles de regression dans 6 fichiers differents :\n",
    "- LinearRegression.ipynb\n",
    "- Ridge.ipynb\n",
    "- Lasso.ipynb\n",
    "- KNeighborsRegressor.ipynd\n",
    "- DecisionTreeRegressor.ipynb\n",
    "- RandomForestRegressor.ipynb\n",
    "\n",
    "Nous utilisons des transformers pour le traitements des données d'entrée.\n",
    "Puis le modele pour effectuer les predictions.\n",
    "Nous allons utiliser la classe `Pipeline` de Scikit-learn pour enchainer les traitement et la modelisation afin "
   ]
  },
  {
   "cell_type": "markdown",
   "id": "955567ad-c725-4177-8abc-34f63508a1b0",
   "metadata": {},
   "source": [
    "## Conlcusion"
   ]
  },
  {
   "cell_type": "code",
   "execution_count": null,
   "id": "88d8c0b2-5746-40da-91a4-b585f57f99a4",
   "metadata": {},
   "outputs": [],
   "source": []
  }
 ],
 "metadata": {
  "kernelspec": {
   "display_name": "Python 3 (ipykernel)",
   "language": "python",
   "name": "python3"
  },
  "language_info": {
   "codemirror_mode": {
    "name": "ipython",
    "version": 3
   },
   "file_extension": ".py",
   "mimetype": "text/x-python",
   "name": "python",
   "nbconvert_exporter": "python",
   "pygments_lexer": "ipython3",
   "version": "3.9.13"
  }
 },
 "nbformat": 4,
 "nbformat_minor": 5
}
