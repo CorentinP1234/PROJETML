{
 "cells": [
  {
   "cell_type": "markdown",
   "id": "92197b08-47b1-43cd-81a4-8c97732ac087",
   "metadata": {},
   "source": [
    "## Machine Learning pour expliquer les variations journalières des prix des contrats à terme d'électricité en France et en Allemagne\n",
    "\n",
    "Dans ce notebook, nous allons analyser les facteurs influençant le prix de l'électricité en France et en Allemagne. Nous examinerons l'impact des variations climatiques, des matières premières et des échanges commerciaux sur les prix de l'électricité à court terme (24h). L'objectif est de construire un modèle de machine learning capable d'estimer avec précision les variations journalières des prix des contrats à terme sur l'électricité pour ces deux pays.\n",
    "\n",
    "Ce projet sera réalisé en suivant la méthodologie CRISP-DM, qui comprend les étapes suivantes:\n",
    "\n",
    "Business Understanding: Comprendre le contexte métier et les objectifs du projet.\n",
    "Data Understanding: Explorer et analyser les données fournies pour mieux comprendre leurs caractéristiques.\n",
    "Data Preparation: Préparer et nettoyer les données pour les adapter aux besoins du modèle de machine learning.\n",
    "Modelling: Entraîner différents modèles de machine learning et sélectionner le meilleur en fonction des performances.\n",
    "Evaluation: Évaluer les performances des modèles choisis et analyser les résultats pour en tirer des conclusions.\n",
    "Après cette introduction, nous entamerons la première étape, \"Business Understanding\", en détaillant davantage le contexte métier et les objectifs du projet."
   ]
  },
  {
   "cell_type": "markdown",
   "id": "4287ce6b-29fc-4a35-8da2-2f0d3a981fd6",
   "metadata": {},
   "source": [
    "### Table des matières\n",
    "\n",
    "1. [Objectif du projet](#chapter1)\n",
    "2. [Imports et fonctions d'aide](chapter2)\n",
    "3. [Description des données](#chapter2)\n",
    "4. [Préparation des données](#chapter3)\n",
    "5. [Modélisation des données](#chapter4)\n",
    "6. [Evaluation](#chapter5)\n"
   ]
  },
  {
   "cell_type": "markdown",
   "id": "8ff977ad-fbfc-4236-b6d1-90262e2f5e07",
   "metadata": {},
   "source": [
    "\n",
    "## 1. Objectif du projet <a class=\"anchor\" id=\"chapter1\"></a>\n",
    "\n",
    "Dans ce projet, nous cherchons à modéliser le prix de l'électricité à partir de données météorologiques, énergétiques (matières premières) et commerciales pour deux pays européens, la France et l'Allemagne. Le but est de construire un modèle capable d'estimer la variation journalière du prix des contrats à terme (futures) sur l'électricité, en France ou en Allemagne, à partir de ces variables explicatives. Ces contrats permettent d'acheter (ou de vendre) une quantité donnée d'électricité à un prix fixé par le contrat et qui sera livrée à une date future spécifiée (maturité du contrat). Les futures sont des instruments financiers qui donnent une estimation de la valeur de l'électricité au moment de la maturité du contrat à partir des conditions actuelles du marché.\n",
    "\n",
    "L'importance de ce projet réside dans la possibilité de mieux comprendre les facteurs qui influencent les prix de l'électricité et d'aider les parties prenantes à prendre des décisions éclairées concernant l'achat, la vente ou la production d'électricité. En comprenant les facteurs qui influencent les prix de l'électricité, les entreprises et les gouvernements peuvent optimiser leurs stratégies énergétiques et leurs politiques pour réduire les coûts et favoriser le développement durable.\n",
    "\n"
   ]
  },
  {
   "cell_type": "markdown",
   "id": "5a203444-2419-4588-a5a6-734b916d4062",
   "metadata": {},
   "source": [
    "## 2. Imports et fonctions d'aide"
   ]
  },
  {
   "cell_type": "markdown",
   "id": "6a554975-f949-4b92-9a55-6693ae5f1b85",
   "metadata": {},
   "source": [
    "### 2.1 Imports"
   ]
  },
  {
   "cell_type": "markdown",
   "id": "77ea0203-1cdf-4a47-8921-525445dbb9bb",
   "metadata": {},
   "source": [
    "Nous allons utiliser les bibliothèque \n",
    "- **Pandas** et **Numpy** pour la manipulation des données\n",
    "- **Matplotlib** et **Seabron** pour la visualisation des données\n",
    "- **Scikit-learn** pour la modelisation des données\n",
    "- **IPython.display** pour afficher du texte formaté en Markdown et LaTeX"
   ]
  },
  {
   "cell_type": "code",
   "execution_count": 1,
   "id": "609c3c8f-a4b2-4787-a6c9-eca4353ecde4",
   "metadata": {},
   "outputs": [],
   "source": [
    "# Import des bibliothèques nécessaires\n",
    "import pandas as pd\n",
    "import numpy as np\n",
    "import matplotlib.pyplot as plt\n",
    "import seaborn as sns\n",
    "import sklearn as sk\n",
    "\n",
    "from IPython.display import display, Markdown, Latex\n",
    "\n",
    "# Configuration de l'affichage des graphiques dans le notebook\n",
    "%matplotlib inline"
   ]
  },
  {
   "cell_type": "markdown",
   "id": "16de84f3-fa60-4566-b7a0-c223b338b3a8",
   "metadata": {},
   "source": [
    "### 2.2 fonctions d'aide"
   ]
  },
  {
   "cell_type": "code",
   "execution_count": 2,
   "id": "8191d512-7996-40fc-803c-59f02170b545",
   "metadata": {},
   "outputs": [],
   "source": [
    "# Fonction pour afficher le texte en utilisant le formatage Markdown\n",
    "def display_m(string):\n",
    "    display(Markdown(string))"
   ]
  },
  {
   "cell_type": "markdown",
   "id": "799e0504-0025-4b46-8ffc-2944a3e85047",
   "metadata": {},
   "source": [
    "## 3. Description des données <a class=\"anchor\" id=\"chapter3\"></a>"
   ]
  },
  {
   "cell_type": "markdown",
   "id": "09664892-e1c7-4910-99bd-74a09049b8a5",
   "metadata": {},
   "source": [
    "### 3.1 Chargement des données intiales\n",
    "Nous avons trois datasets au format csv:\n",
    "- **Data_x**: les données d'entrée\n",
    "- **Data_y**: les données de sorties (labels)\n",
    "- **DataNew_x**: les nouvelles données d'entrée a prédire (de meme format et dimensions que data_x)"
   ]
  },
  {
   "cell_type": "code",
   "execution_count": 88,
   "id": "7ed9b461-6cf6-4ccd-b3cc-ff3d29e21bd6",
   "metadata": {},
   "outputs": [
    {
     "name": "stdout",
     "output_type": "stream",
     "text": [
      "ceci s'affiche\n"
     ]
    },
    {
     "data": {
      "text/html": [
       "<div>\n",
       "<style scoped>\n",
       "    .dataframe tbody tr th:only-of-type {\n",
       "        vertical-align: middle;\n",
       "    }\n",
       "\n",
       "    .dataframe tbody tr th {\n",
       "        vertical-align: top;\n",
       "    }\n",
       "\n",
       "    .dataframe thead th {\n",
       "        text-align: right;\n",
       "    }\n",
       "</style>\n",
       "<table border=\"1\" class=\"dataframe\">\n",
       "  <thead>\n",
       "    <tr style=\"text-align: right;\">\n",
       "      <th></th>\n",
       "      <th>ID</th>\n",
       "      <th>DAY_ID</th>\n",
       "      <th>COUNTRY</th>\n",
       "      <th>DE_CONSUMPTION</th>\n",
       "      <th>FR_CONSUMPTION</th>\n",
       "      <th>DE_FR_EXCHANGE</th>\n",
       "      <th>FR_DE_EXCHANGE</th>\n",
       "      <th>DE_NET_EXPORT</th>\n",
       "      <th>FR_NET_EXPORT</th>\n",
       "      <th>DE_NET_IMPORT</th>\n",
       "      <th>...</th>\n",
       "      <th>FR_RESIDUAL_LOAD</th>\n",
       "      <th>DE_RAIN</th>\n",
       "      <th>FR_RAIN</th>\n",
       "      <th>DE_WIND</th>\n",
       "      <th>FR_WIND</th>\n",
       "      <th>DE_TEMP</th>\n",
       "      <th>FR_TEMP</th>\n",
       "      <th>GAS_RET</th>\n",
       "      <th>COAL_RET</th>\n",
       "      <th>CARBON_RET</th>\n",
       "    </tr>\n",
       "  </thead>\n",
       "  <tbody>\n",
       "    <tr>\n",
       "      <th>1</th>\n",
       "      <td>2049</td>\n",
       "      <td>501</td>\n",
       "      <td>FR</td>\n",
       "      <td>-0.022399</td>\n",
       "      <td>-1.003452</td>\n",
       "      <td>-0.022063</td>\n",
       "      <td>0.022063</td>\n",
       "      <td>-0.57352</td>\n",
       "      <td>-1.130838</td>\n",
       "      <td>0.57352</td>\n",
       "      <td>...</td>\n",
       "      <td>-1.183194</td>\n",
       "      <td>-1.2403</td>\n",
       "      <td>-0.770457</td>\n",
       "      <td>1.522331</td>\n",
       "      <td>0.828412</td>\n",
       "      <td>0.437419</td>\n",
       "      <td>1.831241</td>\n",
       "      <td>-0.659091</td>\n",
       "      <td>0.047114</td>\n",
       "      <td>-0.490365</td>\n",
       "    </tr>\n",
       "  </tbody>\n",
       "</table>\n",
       "<p>1 rows × 35 columns</p>\n",
       "</div>"
      ],
      "text/plain": [
       "     ID  DAY_ID COUNTRY  DE_CONSUMPTION  FR_CONSUMPTION  DE_FR_EXCHANGE  \\\n",
       "1  2049     501      FR       -0.022399       -1.003452       -0.022063   \n",
       "\n",
       "   FR_DE_EXCHANGE  DE_NET_EXPORT  FR_NET_EXPORT  DE_NET_IMPORT  ...  \\\n",
       "1        0.022063       -0.57352      -1.130838        0.57352  ...   \n",
       "\n",
       "   FR_RESIDUAL_LOAD  DE_RAIN   FR_RAIN   DE_WIND   FR_WIND   DE_TEMP  \\\n",
       "1         -1.183194  -1.2403 -0.770457  1.522331  0.828412  0.437419   \n",
       "\n",
       "    FR_TEMP   GAS_RET  COAL_RET  CARBON_RET  \n",
       "1  1.831241 -0.659091  0.047114   -0.490365  \n",
       "\n",
       "[1 rows x 35 columns]"
      ]
     },
     "metadata": {},
     "output_type": "display_data"
    },
    {
     "data": {
      "text/html": [
       "<div>\n",
       "<style scoped>\n",
       "    .dataframe tbody tr th:only-of-type {\n",
       "        vertical-align: middle;\n",
       "    }\n",
       "\n",
       "    .dataframe tbody tr th {\n",
       "        vertical-align: top;\n",
       "    }\n",
       "\n",
       "    .dataframe thead th {\n",
       "        text-align: right;\n",
       "    }\n",
       "</style>\n",
       "<table border=\"1\" class=\"dataframe\">\n",
       "  <thead>\n",
       "    <tr style=\"text-align: right;\">\n",
       "      <th></th>\n",
       "      <th>ID</th>\n",
       "      <th>DAY_ID</th>\n",
       "      <th>COUNTRY</th>\n",
       "      <th>DE_CONSUMPTION</th>\n",
       "      <th>FR_CONSUMPTION</th>\n",
       "      <th>DE_FR_EXCHANGE</th>\n",
       "      <th>FR_DE_EXCHANGE</th>\n",
       "      <th>DE_NET_EXPORT</th>\n",
       "      <th>FR_NET_EXPORT</th>\n",
       "      <th>DE_NET_IMPORT</th>\n",
       "      <th>...</th>\n",
       "      <th>FR_RESIDUAL_LOAD</th>\n",
       "      <th>DE_RAIN</th>\n",
       "      <th>FR_RAIN</th>\n",
       "      <th>DE_WIND</th>\n",
       "      <th>FR_WIND</th>\n",
       "      <th>DE_TEMP</th>\n",
       "      <th>FR_TEMP</th>\n",
       "      <th>GAS_RET</th>\n",
       "      <th>COAL_RET</th>\n",
       "      <th>CARBON_RET</th>\n",
       "    </tr>\n",
       "  </thead>\n",
       "  <tbody>\n",
       "  </tbody>\n",
       "</table>\n",
       "<p>0 rows × 35 columns</p>\n",
       "</div>"
      ],
      "text/plain": [
       "Empty DataFrame\n",
       "Columns: [ID, DAY_ID, COUNTRY, DE_CONSUMPTION, FR_CONSUMPTION, DE_FR_EXCHANGE, FR_DE_EXCHANGE, DE_NET_EXPORT, FR_NET_EXPORT, DE_NET_IMPORT, FR_NET_IMPORT, DE_GAS, FR_GAS, DE_COAL, FR_COAL, DE_HYDRO, FR_HYDRO, DE_NUCLEAR, FR_NUCLEAR, DE_SOLAR, FR_SOLAR, DE_WINDPOW, FR_WINDPOW, DE_LIGNITE, DE_RESIDUAL_LOAD, FR_RESIDUAL_LOAD, DE_RAIN, FR_RAIN, DE_WIND, FR_WIND, DE_TEMP, FR_TEMP, GAS_RET, COAL_RET, CARBON_RET]\n",
       "Index: []\n",
       "\n",
       "[0 rows x 35 columns]"
      ]
     },
     "metadata": {},
     "output_type": "display_data"
    }
   ],
   "source": [
    "data_x = pd.read_csv(\"data/Data_X.csv\")\n",
    "dataNew_x = pd.read_csv(\"data/DataNew_X.csv\")\n",
    "data_y = pd.read_csv(\"data/Data_Y.csv\")\n",
    "\n",
    "\n",
    "# Concaténer les deux dataframes verticalement\n",
    "all_data_x = pd.concat([data_x, dataNew_x], axis=0,  ignore_index=True)\n",
    "train_mask = all_data_x.index.isin(data_x.index)\n",
    "test_mask = all_data_x.index.isin(dataNew_x.index)\n",
    "\n",
    "if (all_data_x.loc[train_mask].equals(data_x)):\n",
    "    print(\"ceci s'affiche\")\n",
    "\n",
    "if (all_data_x.loc[test_mask].equals(dataNew_x)):\n",
    "    print(\"ceci devrait s afficher\")\n",
    "# display(all_data_x.loc[train_mask])\n",
    "# display(data_x)\n",
    "# display(all_data_x.loc[test_mask])\n",
    "display(all_data_x.loc[test_mask & (all_data_x[\"ID\"] == 2049)])\n",
    "display(dataNew_x[dataNew_x[\"ID\"] == 2049])"
   ]
  },
  {
   "cell_type": "code",
   "execution_count": 4,
   "id": "40cde6b0-5d15-4934-af6b-a6356b2e0f59",
   "metadata": {},
   "outputs": [
    {
     "data": {
      "text/html": [
       "<div>\n",
       "<style scoped>\n",
       "    .dataframe tbody tr th:only-of-type {\n",
       "        vertical-align: middle;\n",
       "    }\n",
       "\n",
       "    .dataframe tbody tr th {\n",
       "        vertical-align: top;\n",
       "    }\n",
       "\n",
       "    .dataframe thead th {\n",
       "        text-align: right;\n",
       "    }\n",
       "</style>\n",
       "<table border=\"1\" class=\"dataframe\">\n",
       "  <thead>\n",
       "    <tr style=\"text-align: right;\">\n",
       "      <th></th>\n",
       "      <th>ID</th>\n",
       "      <th>DAY_ID</th>\n",
       "      <th>DE_CONSUMPTION</th>\n",
       "      <th>FR_CONSUMPTION</th>\n",
       "      <th>DE_FR_EXCHANGE</th>\n",
       "      <th>FR_DE_EXCHANGE</th>\n",
       "      <th>DE_NET_EXPORT</th>\n",
       "      <th>FR_NET_EXPORT</th>\n",
       "      <th>DE_NET_IMPORT</th>\n",
       "      <th>FR_NET_IMPORT</th>\n",
       "      <th>...</th>\n",
       "      <th>FR_RESIDUAL_LOAD</th>\n",
       "      <th>DE_RAIN</th>\n",
       "      <th>FR_RAIN</th>\n",
       "      <th>DE_WIND</th>\n",
       "      <th>FR_WIND</th>\n",
       "      <th>DE_TEMP</th>\n",
       "      <th>FR_TEMP</th>\n",
       "      <th>GAS_RET</th>\n",
       "      <th>COAL_RET</th>\n",
       "      <th>CARBON_RET</th>\n",
       "    </tr>\n",
       "  </thead>\n",
       "  <tbody>\n",
       "    <tr>\n",
       "      <th>count</th>\n",
       "      <td>1494.000000</td>\n",
       "      <td>1494.000000</td>\n",
       "      <td>1494.000000</td>\n",
       "      <td>1494.000000</td>\n",
       "      <td>1469.000000</td>\n",
       "      <td>1469.000000</td>\n",
       "      <td>1370.000000</td>\n",
       "      <td>1424.000000</td>\n",
       "      <td>1370.000000</td>\n",
       "      <td>1424.000000</td>\n",
       "      <td>...</td>\n",
       "      <td>1494.000000</td>\n",
       "      <td>1400.000000</td>\n",
       "      <td>1400.000000</td>\n",
       "      <td>1400.000000</td>\n",
       "      <td>1400.000000</td>\n",
       "      <td>1400.000000</td>\n",
       "      <td>1400.000000</td>\n",
       "      <td>1494.000000</td>\n",
       "      <td>1494.000000</td>\n",
       "      <td>1494.000000</td>\n",
       "    </tr>\n",
       "    <tr>\n",
       "      <th>mean</th>\n",
       "      <td>1072.759036</td>\n",
       "      <td>591.861446</td>\n",
       "      <td>0.427442</td>\n",
       "      <td>-0.020032</td>\n",
       "      <td>-0.145508</td>\n",
       "      <td>0.145508</td>\n",
       "      <td>-0.256332</td>\n",
       "      <td>-0.072643</td>\n",
       "      <td>0.256332</td>\n",
       "      <td>0.072643</td>\n",
       "      <td>...</td>\n",
       "      <td>-0.153688</td>\n",
       "      <td>-0.037831</td>\n",
       "      <td>0.019357</td>\n",
       "      <td>0.109480</td>\n",
       "      <td>0.123099</td>\n",
       "      <td>0.009451</td>\n",
       "      <td>0.008404</td>\n",
       "      <td>0.058126</td>\n",
       "      <td>0.061724</td>\n",
       "      <td>0.080510</td>\n",
       "    </tr>\n",
       "    <tr>\n",
       "      <th>std</th>\n",
       "      <td>618.013179</td>\n",
       "      <td>345.065043</td>\n",
       "      <td>0.673412</td>\n",
       "      <td>0.918995</td>\n",
       "      <td>0.970226</td>\n",
       "      <td>0.970226</td>\n",
       "      <td>0.957443</td>\n",
       "      <td>1.075830</td>\n",
       "      <td>0.957443</td>\n",
       "      <td>1.075830</td>\n",
       "      <td>...</td>\n",
       "      <td>0.896325</td>\n",
       "      <td>0.984233</td>\n",
       "      <td>1.051781</td>\n",
       "      <td>1.056243</td>\n",
       "      <td>1.054692</td>\n",
       "      <td>0.972394</td>\n",
       "      <td>1.003356</td>\n",
       "      <td>1.097768</td>\n",
       "      <td>1.033853</td>\n",
       "      <td>1.098624</td>\n",
       "    </tr>\n",
       "    <tr>\n",
       "      <th>min</th>\n",
       "      <td>0.000000</td>\n",
       "      <td>0.000000</td>\n",
       "      <td>-2.265563</td>\n",
       "      <td>-1.462350</td>\n",
       "      <td>-2.856874</td>\n",
       "      <td>-2.634831</td>\n",
       "      <td>-2.464849</td>\n",
       "      <td>-2.825331</td>\n",
       "      <td>-2.279619</td>\n",
       "      <td>-1.951516</td>\n",
       "      <td>...</td>\n",
       "      <td>-1.678936</td>\n",
       "      <td>-2.128531</td>\n",
       "      <td>-1.726420</td>\n",
       "      <td>-1.880419</td>\n",
       "      <td>-1.895319</td>\n",
       "      <td>-4.549638</td>\n",
       "      <td>-5.787097</td>\n",
       "      <td>-5.349463</td>\n",
       "      <td>-5.706442</td>\n",
       "      <td>-4.281790</td>\n",
       "    </tr>\n",
       "    <tr>\n",
       "      <th>25%</th>\n",
       "      <td>540.250000</td>\n",
       "      <td>292.250000</td>\n",
       "      <td>-0.037421</td>\n",
       "      <td>-0.716771</td>\n",
       "      <td>-0.875213</td>\n",
       "      <td>-0.638867</td>\n",
       "      <td>-0.977214</td>\n",
       "      <td>-0.851500</td>\n",
       "      <td>-0.452252</td>\n",
       "      <td>-0.794843</td>\n",
       "      <td>...</td>\n",
       "      <td>-0.802333</td>\n",
       "      <td>-0.642117</td>\n",
       "      <td>-0.503927</td>\n",
       "      <td>-0.652135</td>\n",
       "      <td>-0.672614</td>\n",
       "      <td>-0.618259</td>\n",
       "      <td>-0.647948</td>\n",
       "      <td>-0.624238</td>\n",
       "      <td>-0.458038</td>\n",
       "      <td>-0.522968</td>\n",
       "    </tr>\n",
       "    <tr>\n",
       "      <th>50%</th>\n",
       "      <td>1077.500000</td>\n",
       "      <td>591.000000</td>\n",
       "      <td>0.357061</td>\n",
       "      <td>-0.394166</td>\n",
       "      <td>-0.164287</td>\n",
       "      <td>0.164287</td>\n",
       "      <td>-0.306899</td>\n",
       "      <td>0.099455</td>\n",
       "      <td>0.306899</td>\n",
       "      <td>-0.099455</td>\n",
       "      <td>...</td>\n",
       "      <td>-0.460160</td>\n",
       "      <td>-0.274901</td>\n",
       "      <td>-0.228147</td>\n",
       "      <td>-0.261571</td>\n",
       "      <td>-0.229031</td>\n",
       "      <td>-0.026306</td>\n",
       "      <td>-0.020889</td>\n",
       "      <td>0.008493</td>\n",
       "      <td>0.063312</td>\n",
       "      <td>0.054056</td>\n",
       "    </tr>\n",
       "    <tr>\n",
       "      <th>75%</th>\n",
       "      <td>1597.500000</td>\n",
       "      <td>885.750000</td>\n",
       "      <td>0.922057</td>\n",
       "      <td>0.650533</td>\n",
       "      <td>0.638867</td>\n",
       "      <td>0.875213</td>\n",
       "      <td>0.452252</td>\n",
       "      <td>0.794843</td>\n",
       "      <td>0.977214</td>\n",
       "      <td>0.851500</td>\n",
       "      <td>...</td>\n",
       "      <td>0.382191</td>\n",
       "      <td>0.335237</td>\n",
       "      <td>0.154351</td>\n",
       "      <td>0.635050</td>\n",
       "      <td>0.824781</td>\n",
       "      <td>0.651832</td>\n",
       "      <td>0.699131</td>\n",
       "      <td>0.676415</td>\n",
       "      <td>0.641446</td>\n",
       "      <td>0.599094</td>\n",
       "    </tr>\n",
       "    <tr>\n",
       "      <th>max</th>\n",
       "      <td>2146.000000</td>\n",
       "      <td>1215.000000</td>\n",
       "      <td>2.033851</td>\n",
       "      <td>3.300640</td>\n",
       "      <td>2.634831</td>\n",
       "      <td>2.856874</td>\n",
       "      <td>2.279619</td>\n",
       "      <td>1.951516</td>\n",
       "      <td>2.464849</td>\n",
       "      <td>2.825331</td>\n",
       "      <td>...</td>\n",
       "      <td>2.918326</td>\n",
       "      <td>7.756118</td>\n",
       "      <td>9.473201</td>\n",
       "      <td>5.085624</td>\n",
       "      <td>4.965028</td>\n",
       "      <td>2.858758</td>\n",
       "      <td>2.817239</td>\n",
       "      <td>5.674778</td>\n",
       "      <td>3.746576</td>\n",
       "      <td>5.471818</td>\n",
       "    </tr>\n",
       "  </tbody>\n",
       "</table>\n",
       "<p>8 rows × 34 columns</p>\n",
       "</div>"
      ],
      "text/plain": [
       "                ID       DAY_ID  DE_CONSUMPTION  FR_CONSUMPTION  \\\n",
       "count  1494.000000  1494.000000     1494.000000     1494.000000   \n",
       "mean   1072.759036   591.861446        0.427442       -0.020032   \n",
       "std     618.013179   345.065043        0.673412        0.918995   \n",
       "min       0.000000     0.000000       -2.265563       -1.462350   \n",
       "25%     540.250000   292.250000       -0.037421       -0.716771   \n",
       "50%    1077.500000   591.000000        0.357061       -0.394166   \n",
       "75%    1597.500000   885.750000        0.922057        0.650533   \n",
       "max    2146.000000  1215.000000        2.033851        3.300640   \n",
       "\n",
       "       DE_FR_EXCHANGE  FR_DE_EXCHANGE  DE_NET_EXPORT  FR_NET_EXPORT  \\\n",
       "count     1469.000000     1469.000000    1370.000000    1424.000000   \n",
       "mean        -0.145508        0.145508      -0.256332      -0.072643   \n",
       "std          0.970226        0.970226       0.957443       1.075830   \n",
       "min         -2.856874       -2.634831      -2.464849      -2.825331   \n",
       "25%         -0.875213       -0.638867      -0.977214      -0.851500   \n",
       "50%         -0.164287        0.164287      -0.306899       0.099455   \n",
       "75%          0.638867        0.875213       0.452252       0.794843   \n",
       "max          2.634831        2.856874       2.279619       1.951516   \n",
       "\n",
       "       DE_NET_IMPORT  FR_NET_IMPORT  ...  FR_RESIDUAL_LOAD      DE_RAIN  \\\n",
       "count    1370.000000    1424.000000  ...       1494.000000  1400.000000   \n",
       "mean        0.256332       0.072643  ...         -0.153688    -0.037831   \n",
       "std         0.957443       1.075830  ...          0.896325     0.984233   \n",
       "min        -2.279619      -1.951516  ...         -1.678936    -2.128531   \n",
       "25%        -0.452252      -0.794843  ...         -0.802333    -0.642117   \n",
       "50%         0.306899      -0.099455  ...         -0.460160    -0.274901   \n",
       "75%         0.977214       0.851500  ...          0.382191     0.335237   \n",
       "max         2.464849       2.825331  ...          2.918326     7.756118   \n",
       "\n",
       "           FR_RAIN      DE_WIND      FR_WIND      DE_TEMP      FR_TEMP  \\\n",
       "count  1400.000000  1400.000000  1400.000000  1400.000000  1400.000000   \n",
       "mean      0.019357     0.109480     0.123099     0.009451     0.008404   \n",
       "std       1.051781     1.056243     1.054692     0.972394     1.003356   \n",
       "min      -1.726420    -1.880419    -1.895319    -4.549638    -5.787097   \n",
       "25%      -0.503927    -0.652135    -0.672614    -0.618259    -0.647948   \n",
       "50%      -0.228147    -0.261571    -0.229031    -0.026306    -0.020889   \n",
       "75%       0.154351     0.635050     0.824781     0.651832     0.699131   \n",
       "max       9.473201     5.085624     4.965028     2.858758     2.817239   \n",
       "\n",
       "           GAS_RET     COAL_RET   CARBON_RET  \n",
       "count  1494.000000  1494.000000  1494.000000  \n",
       "mean      0.058126     0.061724     0.080510  \n",
       "std       1.097768     1.033853     1.098624  \n",
       "min      -5.349463    -5.706442    -4.281790  \n",
       "25%      -0.624238    -0.458038    -0.522968  \n",
       "50%       0.008493     0.063312     0.054056  \n",
       "75%       0.676415     0.641446     0.599094  \n",
       "max       5.674778     3.746576     5.471818  \n",
       "\n",
       "[8 rows x 34 columns]"
      ]
     },
     "metadata": {},
     "output_type": "display_data"
    },
    {
     "data": {
      "text/plain": [
       "ID                    int64\n",
       "DAY_ID                int64\n",
       "COUNTRY              object\n",
       "DE_CONSUMPTION      float64\n",
       "FR_CONSUMPTION      float64\n",
       "DE_FR_EXCHANGE      float64\n",
       "FR_DE_EXCHANGE      float64\n",
       "DE_NET_EXPORT       float64\n",
       "FR_NET_EXPORT       float64\n",
       "DE_NET_IMPORT       float64\n",
       "FR_NET_IMPORT       float64\n",
       "DE_GAS              float64\n",
       "FR_GAS              float64\n",
       "DE_COAL             float64\n",
       "FR_COAL             float64\n",
       "DE_HYDRO            float64\n",
       "FR_HYDRO            float64\n",
       "DE_NUCLEAR          float64\n",
       "FR_NUCLEAR          float64\n",
       "DE_SOLAR            float64\n",
       "FR_SOLAR            float64\n",
       "DE_WINDPOW          float64\n",
       "FR_WINDPOW          float64\n",
       "DE_LIGNITE          float64\n",
       "DE_RESIDUAL_LOAD    float64\n",
       "FR_RESIDUAL_LOAD    float64\n",
       "DE_RAIN             float64\n",
       "FR_RAIN             float64\n",
       "DE_WIND             float64\n",
       "FR_WIND             float64\n",
       "DE_TEMP             float64\n",
       "FR_TEMP             float64\n",
       "GAS_RET             float64\n",
       "COAL_RET            float64\n",
       "CARBON_RET          float64\n",
       "dtype: object"
      ]
     },
     "metadata": {},
     "output_type": "display_data"
    }
   ],
   "source": [
    "display(data_x.describe())\n",
    "display(data_x.dtypes)"
   ]
  },
  {
   "cell_type": "markdown",
   "id": "777414ce-f285-4005-8a8a-4d65b773c5f3",
   "metadata": {},
   "source": [
    "### 3.2 Description des variables des datasets"
   ]
  },
  {
   "cell_type": "markdown",
   "id": "e8229f91-9924-4938-833f-50867e8a732e",
   "metadata": {},
   "source": [
    "#### 3.2.1 Description des variables des datasets d'entrée"
   ]
  },
  {
   "cell_type": "code",
   "execution_count": 5,
   "id": "0f566ed0-c56c-465d-86aa-0f4b6eade894",
   "metadata": {},
   "outputs": [
    {
     "data": {
      "text/markdown": [
       "Les dataset d'entrée **Data_x** et **DataNew_x** sont composés de **1494** et **654** entrées respectivement avec **35** variables."
      ],
      "text/plain": [
       "<IPython.core.display.Markdown object>"
      ]
     },
     "metadata": {},
     "output_type": "display_data"
    }
   ],
   "source": [
    "from vars_description import x_vars_desc\n",
    "\n",
    "nbr_columns_x = len(x_vars_desc)\n",
    "\n",
    "display_m(f\"Les dataset d'entrée **Data_x** et **DataNew_x** sont composés de **{len(data_x)}** et **{len(dataNew_x)}**\\\n",
    " entrées respectivement avec **{nbr_columns_x}** variables.\")"
   ]
  },
  {
   "cell_type": "code",
   "execution_count": 6,
   "id": "e6ae0fb2-b694-458d-bfd6-86871fb5087a",
   "metadata": {},
   "outputs": [
    {
     "data": {
      "text/markdown": [
       "Descriptions des **35** variables de **Data_x** et de **DataNew_x**:"
      ],
      "text/plain": [
       "<IPython.core.display.Markdown object>"
      ]
     },
     "metadata": {},
     "output_type": "display_data"
    },
    {
     "data": {
      "text/markdown": [
       "| Colonne | Description |\n",
       "| --- | --- |\n",
       "| ID | Identifiant unique pour chaque entrée |\n",
       "| DAY_ID | Date de l'entrée sous forme numérique |\n",
       "| COUNTRY | Pays concerné par l'entrée - DE = Allemagne, FR = France |\n",
       "| DE_CONSUMPTION | Consommation d'électricité en Allemagne |\n",
       "| FR_CONSUMPTION | Consommation d'électricité en France |\n",
       "| DE_FR_EXCHANGE | Electricité échangée entre Allemagne et France |\n",
       "| FR_DE_EXCHANGE | Electricité échangée entre France et Allemagne |\n",
       "| DE_NET_EXPORT | Electricité exportée par l'Allemagne vers l'Europe |\n",
       "| FR_NET_EXPORT | Electricité exportée par la France vers l'Europe |\n",
       "| DE_NET_IMPORT | Electricité importée en Allemagne depuis l'Europe |\n",
       "| FR_NET_IMPORT | Electricité importée en France depuis l'Europe |\n",
       "| DE_GAS | Volume de gaz naturel consommé en Allemagne |\n",
       "| FR_GAS | Volume de gaz naturel consommé en France |\n",
       "| DE_COAL | Volume de charbon consommé en Allemagne |\n",
       "| FR_COAL | Volume de charbon consommé en France |\n",
       "| DE_HYDRO | Production d'électricité d'origine hydraulique en Allemagne |\n",
       "| FR_HYDRO | Production d'électricité d'origine hydraulique en France |\n",
       "| DE_NUCLEAR | Production d'électricité d'origine nucléaire en Allemagne |\n",
       "| FR_NUCLEAR | Production d'électricité d'origine nucléaire en France |\n",
       "| DE_SOLAR | Production d'électricité d'origine photovoltaïque en Allemagne |\n",
       "| FR_SOLAR | Production d'électricité d'origine photovoltaïque en France |\n",
       "| DE_WINDPOW | Production d'électricité d'origine éolienne en Allemagne |\n",
       "| FR_WINDPOW | Production d'électricité d'origine éolienne en France |\n",
       "| DE_LIGNITE | Volume de lignite consommé en Allemagne |\n",
       "| DE_RESIDUAL_LOAD | Electricité consommée après utilisation des énergies renouvelables en Allemagne |\n",
       "| FR_RESIDUAL_LOAD | Electricité consommée après utilisation des énergies renouvelables en France |\n",
       "| DE_RAIN | Quantité de pluie tombée en Allemagne |\n",
       "| FR_RAIN | Quantité de pluie tombée en France |\n",
       "| DE_WIND | Vitesse du vent en Allemagne |\n",
       "| FR_WIND | Vitesse du vent en France |\n",
       "| DE_TEMP | Température en Allemagne |\n",
       "| FR_TEMP | Température en France |\n",
       "| GAS_RET | Prix journalier du gaz naturel en Europe |\n",
       "| COAL_RET | Prix journalier du charbon en Europe |\n",
       "| CARBON_RET | Prix journalier des émissions de carbone en Europe |"
      ],
      "text/plain": [
       "<IPython.core.display.Markdown object>"
      ]
     },
     "metadata": {},
     "output_type": "display_data"
    }
   ],
   "source": [
    "# Affichage des descriptions des colonnes pour Data_x\n",
    "display_m(f\"Descriptions des **{nbr_columns_x}** variables de **Data_x** et de **DataNew_x**:\")\n",
    "table_header = \"| Colonne | Description |\\n| --- | --- |\"\n",
    "table = \"\\n\".join([f\"| {col} | {desc} |\" for col, desc in x_vars_desc.items()])\n",
    "display_m(table_header + \"\\n\" + table)"
   ]
  },
  {
   "cell_type": "markdown",
   "id": "089d0d63-a511-4f62-a9ea-1dbcd5f00a4f",
   "metadata": {},
   "source": [
    "#### 3.2.2 Description des variables du datasets de sortie"
   ]
  },
  {
   "cell_type": "code",
   "execution_count": 7,
   "id": "c63719cf-45a2-483f-b695-9e2f1c410f16",
   "metadata": {},
   "outputs": [
    {
     "data": {
      "text/markdown": [
       "Le dataset de sortie **Data_y** est composé de **1494** entrées avec **2** variables."
      ],
      "text/plain": [
       "<IPython.core.display.Markdown object>"
      ]
     },
     "metadata": {},
     "output_type": "display_data"
    }
   ],
   "source": [
    "from vars_description import y_vars_desc\n",
    "\n",
    "nbr_columns_y = len(y_vars_desc)\n",
    "\n",
    "display_m(f\"Le dataset de sortie **Data_y** est composé de **{len(data_x)}** entrées \\\n",
    "avec **{nbr_columns_y}** variables.\")"
   ]
  },
  {
   "cell_type": "code",
   "execution_count": 8,
   "id": "7ff223f8-0525-49e5-96e5-51ecb2446838",
   "metadata": {},
   "outputs": [
    {
     "data": {
      "text/markdown": [
       "<br>Descriptions des **2** variables de **Data_y**:"
      ],
      "text/plain": [
       "<IPython.core.display.Markdown object>"
      ]
     },
     "metadata": {},
     "output_type": "display_data"
    },
    {
     "data": {
      "text/markdown": [
       "| Colonne | Description |\n",
       "| --- | --- |\n",
       "| ID | Identifiant unique pour chaque entrée |\n",
       "| TARGET | Variation journalière du prix de futures d'électricité (maturité 24h) |"
      ],
      "text/plain": [
       "<IPython.core.display.Markdown object>"
      ]
     },
     "metadata": {},
     "output_type": "display_data"
    }
   ],
   "source": [
    "    \n",
    "# Affichage des descriptions des colonnes pour Data_x\n",
    "display_m(f\"<br>Descriptions des **{nbr_columns_y}** variables de **Data_y**:\")\n",
    "table_header = \"| Colonne | Description |\\n| --- | --- |\"\n",
    "table = \"\\n\".join([f\"| {col} | {desc} |\" for col, desc in y_vars_desc.items()])\n",
    "display_m(table_header + \"\\n\" + table)"
   ]
  },
  {
   "cell_type": "markdown",
   "id": "83490de0-60f1-47d4-9a71-976c61a3f29c",
   "metadata": {
    "tags": []
   },
   "source": [
    "## 4. Préparation des données"
   ]
  },
  {
   "cell_type": "markdown",
   "id": "c6b3cb23-2080-40a2-a65f-9dbabc47805b",
   "metadata": {},
   "source": [
    "### 4.1 Vérification et traitement des valeurs manquantes"
   ]
  },
  {
   "cell_type": "markdown",
   "id": "709f08df-6ab1-42cc-9cd4-fa46b27489bd",
   "metadata": {},
   "source": [
    "#### 4.1.1 Vérification des valeurs manquantes de des datasets d'entrée **Data_x** et **DataNew_x**"
   ]
  },
  {
   "cell_type": "code",
   "execution_count": 16,
   "id": "c55c34ce-530f-4463-912d-145b805429d7",
   "metadata": {},
   "outputs": [
    {
     "data": {
      "text/plain": [
       "Series([], dtype: int64)"
      ]
     },
     "execution_count": 16,
     "metadata": {},
     "output_type": "execute_result"
    }
   ],
   "source": [
    "# Affichage du nombre \n",
    "missing_values_x = data_x.isnull().sum()\n",
    "missing_values_x.loc[missing_values_x != 0]"
   ]
  },
  {
   "cell_type": "code",
   "execution_count": 12,
   "id": "53eb1d70-ed18-4d7e-893a-53319b3b0afd",
   "metadata": {},
   "outputs": [
    {
     "data": {
      "text/plain": [
       "DE_FR_EXCHANGE     9\n",
       "FR_DE_EXCHANGE     9\n",
       "DE_NET_EXPORT     47\n",
       "FR_NET_EXPORT     24\n",
       "DE_NET_IMPORT     47\n",
       "FR_NET_IMPORT     24\n",
       "DE_RAIN           40\n",
       "FR_RAIN           40\n",
       "DE_WIND           40\n",
       "FR_WIND           40\n",
       "DE_TEMP           40\n",
       "FR_TEMP           40\n",
       "dtype: int64"
      ]
     },
     "execution_count": 12,
     "metadata": {},
     "output_type": "execute_result"
    }
   ],
   "source": [
    "# Affichage du nombre de valeurs manquantes pour chaque colonnes de data_new_x\n",
    "missing_values_new_x = dataNew_x.isnull().sum()\n",
    "missing_values_new_x.loc[missing_values_x != 0]"
   ]
  },
  {
   "cell_type": "code",
   "execution_count": null,
   "id": "a2f10bc7-10d6-4f0b-bc8c-1d6fe57d4cf2",
   "metadata": {},
   "outputs": [],
   "source": [
    "On observe la proportion"
   ]
  },
  {
   "cell_type": "code",
   "execution_count": 13,
   "id": "f89b8d40-a561-4a8b-bdfc-4a6c589381c7",
   "metadata": {},
   "outputs": [
    {
     "data": {
      "text/markdown": [
       "L'enregistrement comptant le plus de valeur manquante compte 6 valeurs manquantes sur 35 valeurs."
      ],
      "text/plain": [
       "<IPython.core.display.Markdown object>"
      ]
     },
     "metadata": {},
     "output_type": "display_data"
    }
   ],
   "source": [
    "nan_count_per_row = data_x.isnull().sum(axis=1)\n",
    "\n",
    "max_nan_count_per_row = nan_count_per_row.max()\n",
    "display_m(f\"L'enregistrement comptant le plus de valeur manquante compte {max_nan_count_per_row} valeurs manquantes sur 35 valeurs.\")\n"
   ]
  },
  {
   "cell_type": "markdown",
   "id": "8cb37e8e-c658-4fff-a748-32ce08ecc055",
   "metadata": {},
   "source": [
    "On observe qu'au maximum une variable peut manquer a 124 enregistrement (sur 1494) et qu'au plus un enregistrement peut "
   ]
  },
  {
   "cell_type": "markdown",
   "id": "16713604-f500-4bc2-b709-d14dba349daa",
   "metadata": {},
   "source": [
    "#### 4.1.2 Traitement des valeurs manquantes de des datasets d'entrée **Data_x** et **DataNew_x**"
   ]
  },
  {
   "cell_type": "code",
   "execution_count": 14,
   "id": "385bd4d3-486d-4573-a0f4-9c6d1e396cd4",
   "metadata": {},
   "outputs": [
    {
     "data": {
      "text/markdown": [
       "Nombre de valeurs manquantes dans **Data_x** :\n",
       "0"
      ],
      "text/plain": [
       "<IPython.core.display.Markdown object>"
      ]
     },
     "metadata": {},
     "output_type": "display_data"
    },
    {
     "data": {
      "text/markdown": [
       "Nombre de valeurs manquantes dans **DataNew_x** :\n",
       "0"
      ],
      "text/plain": [
       "<IPython.core.display.Markdown object>"
      ]
     },
     "metadata": {},
     "output_type": "display_data"
    }
   ],
   "source": [
    "# Select only numeric columns in Data_x\n",
    "numeric_cols_x = data_x.select_dtypes(include=np.number).columns.tolist()\n",
    "data_x[numeric_cols_x] = data_x[numeric_cols_x].fillna(data_x[numeric_cols_x].mean())\n",
    "\n",
    "# Select only numeric columns in DataNew_x\n",
    "numeric_cols_new_x = dataNew_x.select_dtypes(include=np.number).columns.tolist()\n",
    "dataNew_x[numeric_cols_new_x] = dataNew_x[numeric_cols_new_x].fillna(dataNew_x[numeric_cols_new_x].median())\n",
    "\n",
    "# Afficher le nombre de valeurs manquantes dans Data_x\n",
    "display_m(f\"Nombre de valeurs manquantes dans **Data_x** :\\n{data_x.isnull().sum().sum()}\")\n",
    "\n",
    "# Afficher le nombre de valeurs manquantes dans DataNew_x\n",
    "display_m(f\"Nombre de valeurs manquantes dans **DataNew_x** :\\n{dataNew_x.isnull().sum().sum()}\")\n"
   ]
  },
  {
   "cell_type": "markdown",
   "id": "b9bec212-0fc2-4bef-86e8-54a1ae81c58a",
   "metadata": {},
   "source": [
    "#### 4.1.3 Verification des valeurs manquantes du dataset de sortie **Data_y**"
   ]
  },
  {
   "cell_type": "code",
   "execution_count": 19,
   "id": "bd482316-7458-4e46-87a8-f8dd2683dd02",
   "metadata": {},
   "outputs": [
    {
     "data": {
      "text/markdown": [
       "Nombre de valeurs manquantes dans **Data_y** :\n",
       "0"
      ],
      "text/plain": [
       "<IPython.core.display.Markdown object>"
      ]
     },
     "metadata": {},
     "output_type": "display_data"
    }
   ],
   "source": [
    "display_m(f\"Nombre de valeurs manquantes dans **Data_y** :\\n{data_y.isnull().sum().sum()}\")"
   ]
  },
  {
   "cell_type": "markdown",
   "id": "6eea30d2-befe-4b79-b236-aad5603eeae2",
   "metadata": {},
   "source": [
    "### 4.2 Verification de la comparabilité des variables\n"
   ]
  },
  {
   "cell_type": "code",
   "execution_count": 30,
   "id": "53621442-8696-4656-97fd-a7a7cebb8749",
   "metadata": {},
   "outputs": [
    {
     "data": {
      "text/plain": [
       "DAY_ID\n",
       "2       1\n",
       "3       1\n",
       "4       1\n",
       "5       1\n",
       "6       1\n",
       "       ..\n",
       "1208    1\n",
       "1210    1\n",
       "1211    1\n",
       "1212    1\n",
       "1213    1\n",
       "Length: 932, dtype: int64"
      ]
     },
     "metadata": {},
     "output_type": "display_data"
    },
    {
     "ename": "AttributeError",
     "evalue": "'DataFrame' object has no attribute 'goupby'",
     "output_type": "error",
     "traceback": [
      "\u001b[1;31m---------------------------------------------------------------------------\u001b[0m",
      "\u001b[1;31mAttributeError\u001b[0m                            Traceback (most recent call last)",
      "\u001b[1;32m~\\AppData\\Local\\Temp\\ipykernel_19944\\2633753563.py\u001b[0m in \u001b[0;36m<module>\u001b[1;34m\u001b[0m\n\u001b[0;32m      6\u001b[0m \u001b[0mdisplay\u001b[0m\u001b[1;33m(\u001b[0m\u001b[0mcountry_counts\u001b[0m\u001b[1;33m)\u001b[0m\u001b[1;33m\u001b[0m\u001b[1;33m\u001b[0m\u001b[0m\n\u001b[0;32m      7\u001b[0m \u001b[1;31m# country_counts = all_data_x[all_data_x['COUNTRY'].isin(['FR'])].groupby('DAY_ID').size()\u001b[0m\u001b[1;33m\u001b[0m\u001b[1;33m\u001b[0m\u001b[0m\n\u001b[1;32m----> 8\u001b[1;33m \u001b[0mall_data_x\u001b[0m\u001b[1;33m.\u001b[0m\u001b[0mgoupby\u001b[0m\u001b[1;33m(\u001b[0m\u001b[1;34m'DAY_ID'\u001b[0m\u001b[1;33m)\u001b[0m\u001b[1;33m\u001b[0m\u001b[1;33m\u001b[0m\u001b[0m\n\u001b[0m\u001b[0;32m      9\u001b[0m \u001b[1;33m\u001b[0m\u001b[0m\n",
      "\u001b[1;32m~\\anaconda3\\lib\\site-packages\\pandas\\core\\generic.py\u001b[0m in \u001b[0;36m__getattr__\u001b[1;34m(self, name)\u001b[0m\n\u001b[0;32m   5573\u001b[0m         ):\n\u001b[0;32m   5574\u001b[0m             \u001b[1;32mreturn\u001b[0m \u001b[0mself\u001b[0m\u001b[1;33m[\u001b[0m\u001b[0mname\u001b[0m\u001b[1;33m]\u001b[0m\u001b[1;33m\u001b[0m\u001b[1;33m\u001b[0m\u001b[0m\n\u001b[1;32m-> 5575\u001b[1;33m         \u001b[1;32mreturn\u001b[0m \u001b[0mobject\u001b[0m\u001b[1;33m.\u001b[0m\u001b[0m__getattribute__\u001b[0m\u001b[1;33m(\u001b[0m\u001b[0mself\u001b[0m\u001b[1;33m,\u001b[0m \u001b[0mname\u001b[0m\u001b[1;33m)\u001b[0m\u001b[1;33m\u001b[0m\u001b[1;33m\u001b[0m\u001b[0m\n\u001b[0m\u001b[0;32m   5576\u001b[0m \u001b[1;33m\u001b[0m\u001b[0m\n\u001b[0;32m   5577\u001b[0m     \u001b[1;32mdef\u001b[0m \u001b[0m__setattr__\u001b[0m\u001b[1;33m(\u001b[0m\u001b[0mself\u001b[0m\u001b[1;33m,\u001b[0m \u001b[0mname\u001b[0m\u001b[1;33m:\u001b[0m \u001b[0mstr\u001b[0m\u001b[1;33m,\u001b[0m \u001b[0mvalue\u001b[0m\u001b[1;33m)\u001b[0m \u001b[1;33m->\u001b[0m \u001b[1;32mNone\u001b[0m\u001b[1;33m:\u001b[0m\u001b[1;33m\u001b[0m\u001b[1;33m\u001b[0m\u001b[0m\n",
      "\u001b[1;31mAttributeError\u001b[0m: 'DataFrame' object has no attribute 'goupby'"
     ]
    }
   ],
   "source": [
    "# Concaténer les deux dataframes verticalement\n",
    "all_data_x = pd.concat([data_x, dataNew_x], axis=0)\n",
    "\n",
    "# Regrouper par 'DAY_ID' et compter le nombre de lignes où 'COUNTRY' est 'DE' ou 'FR'\n",
    "country_counts = all_data_x[all_data_x['COUNTRY'].isin(['DE'])].groupby('DAY_ID').size()\n",
    "display(country_counts)\n",
    "# country_counts = all_data_x[all_data_x['COUNTRY'].isin(['FR'])].groupby('DAY_ID').size()\n",
    "all_data_x.goupby('DAY_ID')\n",
    "\n"
   ]
  },
  {
   "cell_type": "code",
   "execution_count": null,
   "id": "b1bfdaf3-691f-4bfb-89b4-49abc415cf93",
   "metadata": {},
   "outputs": [],
   "source": []
  },
  {
   "cell_type": "code",
   "execution_count": null,
   "id": "e1b348ac-6b49-40ec-85c0-2b9b6f5a79d0",
   "metadata": {},
   "outputs": [],
   "source": []
  },
  {
   "cell_type": "code",
   "execution_count": null,
   "id": "c7b9c80b-b968-44af-b193-ecdf16394915",
   "metadata": {},
   "outputs": [],
   "source": []
  },
  {
   "cell_type": "code",
   "execution_count": null,
   "id": "22266d4b-b413-447b-9788-51f464a403a8",
   "metadata": {},
   "outputs": [],
   "source": []
  },
  {
   "cell_type": "code",
   "execution_count": null,
   "id": "e999bc39-5289-4ff7-8722-ef9ced554d2a",
   "metadata": {},
   "outputs": [],
   "source": []
  },
  {
   "cell_type": "markdown",
   "id": "05ea7c32-1862-40fc-a0ab-71d4b40e38fa",
   "metadata": {},
   "source": []
  },
  {
   "cell_type": "markdown",
   "id": "4f78db76-7a55-478b-8b12-6ab0a21f648b",
   "metadata": {},
   "source": [
    "#### 4.2.1 Distribution et échelle des variables d'entrée\n",
    "Nous allons visualiser la distribution des variables d'entrée en utilisant des histogrammes et des boîtes à moustaches (boxplots) pour évaluer leur distribution, leur centralité et leur dispersion."
   ]
  },
  {
   "cell_type": "code",
   "execution_count": null,
   "id": "4f5e7eec-6b25-4a25-944c-17cca60ffc42",
   "metadata": {},
   "outputs": [],
   "source": [
    " # Effectuer des tests statistiques\n",
    "from scipy import stats\n",
    "# Effectuer un test t de Student entre deux colonnes\n",
    "stats.ttest_ind(data_x['colonne1'], data_x['colonne2'])"
   ]
  },
  {
   "cell_type": "code",
   "execution_count": null,
   "id": "0922858c-e1c5-43e6-a7bc-5dada50a377e",
   "metadata": {},
   "outputs": [],
   "source": [
    "data_x_subset = data_x.drop(columns=['ID'])\n",
    "\n",
    "# Affichage des histogrammes pour chaque variable d'entrée\n",
    "data_x_subset.hist(figsize=(20, 20))\n",
    "plt.show()\n",
    "\n",
    "# Affichage des boxplots pour chaque variable d'entrée\n",
    "data_x_subset.plot(kind='box', subplots=True, layout=(7, 5), figsize=(20, 20))\n",
    "plt.show()"
   ]
  },
  {
   "cell_type": "code",
   "execution_count": null,
   "id": "afbe7248-4456-4712-b17e-134b6e2fa4f4",
   "metadata": {},
   "outputs": [],
   "source": []
  }
 ],
 "metadata": {
  "kernelspec": {
   "display_name": "Python 3 (ipykernel)",
   "language": "python",
   "name": "python3"
  },
  "language_info": {
   "codemirror_mode": {
    "name": "ipython",
    "version": 3
   },
   "file_extension": ".py",
   "mimetype": "text/x-python",
   "name": "python",
   "nbconvert_exporter": "python",
   "pygments_lexer": "ipython3",
   "version": "3.9.13"
  }
 },
 "nbformat": 4,
 "nbformat_minor": 5
}
