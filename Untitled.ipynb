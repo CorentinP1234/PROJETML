{
 "cells": [
  {
   "cell_type": "code",
   "execution_count": 5,
   "id": "be48f4ed-17ca-48ed-aeab-25cdd7876cab",
   "metadata": {},
   "outputs": [
    {
     "name": "stdout",
     "output_type": "stream",
     "text": [
      "Nous avons 218 lignes contenant des valeurs manquantes\n",
      "Minimum de valeurs manquantes par ligne :  2\n",
      "Maximum de valeurs manquantes par ligne :  6\n"
     ]
    }
   ],
   "source": [
    "%run 2-Preparation_des_donnees.ipynb"
   ]
  },
  {
   "cell_type": "code",
   "execution_count": null,
   "id": "9d4f2bcf-af6b-450a-9068-831cdf2ca754",
   "metadata": {},
   "outputs": [],
   "source": []
  },
  {
   "cell_type": "code",
   "execution_count": null,
   "id": "c6d6cb05-0730-4677-9467-836b8969772e",
   "metadata": {},
   "outputs": [],
   "source": []
  },
  {
   "cell_type": "code",
   "execution_count": null,
   "id": "83d6720f-55ed-46ba-826d-587bd2520ac7",
   "metadata": {},
   "outputs": [],
   "source": []
  }
 ],
 "metadata": {
  "kernelspec": {
   "display_name": "Python 3 (ipykernel)",
   "language": "python",
   "name": "python3"
  },
  "language_info": {
   "codemirror_mode": {
    "name": "ipython",
    "version": 3
   },
   "file_extension": ".py",
   "mimetype": "text/x-python",
   "name": "python",
   "nbconvert_exporter": "python",
   "pygments_lexer": "ipython3",
   "version": "3.9.13"
  }
 },
 "nbformat": 4,
 "nbformat_minor": 5
}
