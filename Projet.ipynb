{
 "cells": [
  {
   "cell_type": "markdown",
   "id": "86c505ef",
   "metadata": {},
   "source": [
    "# Modélisation et prédiction du prix de l'électricité en France et en Allemagne à partir de données météorologiques, énergétiques et commerciales"
   ]
  },
  {
   "cell_type": "code",
   "execution_count": 40,
   "id": "5124de85",
   "metadata": {},
   "outputs": [
    {
     "name": "stdout",
     "output_type": "stream",
     "text": [
      "Data_new_X :\n",
      " ['ID', 'DAY_ID', 'COUNTRY', 'DE_CONSUMPTION', 'FR_CONSUMPTION', 'DE_FR_EXCHANGE', 'FR_DE_EXCHANGE', 'DE_NET_EXPORT', 'FR_NET_EXPORT', 'DE_NET_IMPORT', 'FR_NET_IMPORT', 'DE_GAS', 'FR_GAS', 'DE_COAL', 'FR_COAL', 'DE_HYDRO', 'FR_HYDRO', 'DE_NUCLEAR', 'FR_NUCLEAR', 'DE_SOLAR', 'FR_SOLAR', 'DE_WINDPOW', 'FR_WINDPOW', 'DE_LIGNITE', 'DE_RESIDUAL_LOAD', 'FR_RESIDUAL_LOAD', 'DE_RAIN', 'FR_RAIN', 'DE_WIND', 'FR_WIND', 'DE_TEMP', 'FR_TEMP', 'GAS_RET', 'COAL_RET', 'CARBON_RET']\n",
      "\n",
      "Data_X :\n",
      " ['ID', 'DAY_ID', 'COUNTRY', 'DE_CONSUMPTION', 'FR_CONSUMPTION', 'DE_FR_EXCHANGE', 'FR_DE_EXCHANGE', 'DE_NET_EXPORT', 'FR_NET_EXPORT', 'DE_NET_IMPORT', 'FR_NET_IMPORT', 'DE_GAS', 'FR_GAS', 'DE_COAL', 'FR_COAL', 'DE_HYDRO', 'FR_HYDRO', 'DE_NUCLEAR', 'FR_NUCLEAR', 'DE_SOLAR', 'FR_SOLAR', 'DE_WINDPOW', 'FR_WINDPOW', 'DE_LIGNITE', 'DE_RESIDUAL_LOAD', 'FR_RESIDUAL_LOAD', 'DE_RAIN', 'FR_RAIN', 'DE_WIND', 'FR_WIND', 'DE_TEMP', 'FR_TEMP', 'GAS_RET', 'COAL_RET', 'CARBON_RET']\n",
      "\n",
      "Data_y :\n",
      " ['ID', 'TARGET']\n",
      "\n",
      "Exemple de 4 target : [ 0.02831338 -0.11251636 -0.18083996 -0.2603561 ]\n",
      "\n"
     ]
    }
   ],
   "source": [
    "\n",
    "import pandas as pd\n",
    "\n",
    "# Read DataNew_X.csv\n",
    "data_new_x = pd.read_csv('DataNew_X.csv')\n",
    "\n",
    "# Read Data_X.csv\n",
    "data_x = pd.read_csv('Data_X.csv')\n",
    "\n",
    "# Read Data_Y.csv\n",
    "data_y = pd.read_csv('Data_Y.csv')\n",
    "\n",
    "print(F'Colonnes de Data_new_X :\\n {data_new_x.columns.tolist()}\\n')\n",
    "print(F'Colonnes de Data_X :\\n {data_x.columns.tolist()}\\n')\n",
    "print(F'Colonnes de Data_y :\\n {data_y.columns.tolist()}\\n')\n",
    "print(f\"Exemple de 4 target : {data_y.values[0:4, 1]}\\n\")\n",
    "\n",
    "# data_new_x.head()\n",
    "# data_x.head()\n",
    "# data_y.head()"
   ]
  },
  {
   "cell_type": "markdown",
   "id": "b09ef7c8",
   "metadata": {},
   "source": [
    "# Plan d'attaque:\n",
    "\n",
    "## Préparation des données:\n",
    " 1. Vérifier les valeurs manquantes et les traiter si nécessaire.\n",
    " 2. Vérifier la comparabilité des valeurs des attributs.\n",
    " 3. Appliquer des transformations ou des calculs si nécessaire.\n",
    "\n",
    "## Analyse exploratoire des données (EDA):\n",
    "1. Examiner les types, les distributions, les plages de valeurs et la signification des variables.\n",
    "2. Examiner la relation entre les variables explicatives et la variable cible (TARGET) à l'aide de graphiques et de statistiques.\n",
    "3. Construire une matrice de corrélation entre les variables.\n",
    "4. Interpréter les résultats de l'EDA pour identifier les caractéristiques importantes et les relations significatives.\n",
    "\n",
    "## Modélisation des données:\n",
    "### Entraîner plusieurs modèles de régression:  \n",
    "1. Régression linéaire simple.\n",
    "2. Régression linéaire régularisée (RIDGE / LASSO).  \n",
    "3. Méthode des k plus proches voisins pour la régression (K-NN).  \n",
    "4. Arbres de décision pour la régression (Decision tree regressor).  \n",
    ". (Bonus) Forêts aléatoires (Random Forest regressor).\n",
    "\n",
    "## Évaluation des modèles:\n",
    "1. Optimiser chaque modèle en faisant varier les hyperparamètres pour obtenir les meilleures performances.\n",
    "2. Comparer les performances des modèles pour choisir le plus performant.\n",
    "3. Pour le meilleur modèle retenu, évaluer l'importance des variables (attributs) qui ont abouti à la meilleure prédiction."
   ]
  },
  {
   "cell_type": "code",
   "execution_count": null,
   "id": "d2870ff6",
   "metadata": {},
   "outputs": [],
   "source": []
  }
 ],
 "metadata": {
  "kernelspec": {
   "display_name": "Python 3 (ipykernel)",
   "language": "python",
   "name": "python3"
  },
  "language_info": {
   "codemirror_mode": {
    "name": "ipython",
    "version": 3
   },
   "file_extension": ".py",
   "mimetype": "text/x-python",
   "name": "python",
   "nbconvert_exporter": "python",
   "pygments_lexer": "ipython3",
   "version": "3.9.13"
  }
 },
 "nbformat": 4,
 "nbformat_minor": 5
}
