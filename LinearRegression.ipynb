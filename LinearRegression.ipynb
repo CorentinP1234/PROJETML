{
 "cells": [
  {
   "cell_type": "code",
   "execution_count": 1,
   "id": "c564274f-3ce4-480a-95b5-30ce657006ba",
   "metadata": {
    "ExecuteTime": {
     "end_time": "2023-05-02T01:18:49.161848Z",
     "start_time": "2023-05-02T01:18:49.105043Z"
    }
   },
   "outputs": [],
   "source": [
    "import numpy as np\n",
    "import pandas as pd\n",
    "import matplotlib.pyplot as plt\n",
    "import seaborn as sns\n",
    "from pprint import pformat\n",
    "\n",
    "# Prétraitement des données\n",
    "from sklearn.impute import SimpleImputer\n",
    "from sklearn.preprocessing import StandardScaler, MinMaxScaler, RobustScaler\n",
    "from sklearn.feature_selection import SelectKBest, f_regression\n",
    "from sklearn.pipeline import Pipeline\n",
    "\n",
    "# Modèles\n",
    "from sklearn.linear_model import LinearRegression, Ridge, Lasso\n",
    "from sklearn.neighbors import KNeighborsRegressor\n",
    "from sklearn.tree import DecisionTreeRegressor\n",
    "from sklearn.ensemble import RandomForestRegressor\n",
    "\n",
    "# Évaluation des modèles\n",
    "from sklearn.metrics import make_scorer, r2_score, mean_squared_error\n",
    "from scipy.stats import spearmanr\n",
    "\n",
    "# Validation croisée et recherche de modèle\n",
    "from sklearn.model_selection import train_test_split, GridSearchCV, RandomizedSearchCV, KFold"
   ]
  },
  {
   "cell_type": "markdown",
   "id": "12cc57cf-7573-46cf-806d-d1408ec45846",
   "metadata": {},
   "source": [
    "# France"
   ]
  },
  {
   "cell_type": "code",
   "execution_count": 23,
   "id": "9a7e3800-b010-4a36-9fb7-f016fac525f4",
   "metadata": {},
   "outputs": [
    {
     "data": {
      "text/plain": [
       "(680, 39)"
      ]
     },
     "execution_count": 23,
     "metadata": {},
     "output_type": "execute_result"
    }
   ],
   "source": [
    "data_fr = pd.read_csv('data/Data_FR.csv', index_col='ID')\n",
    "data_fr.shape"
   ]
  },
  {
   "cell_type": "code",
   "execution_count": 24,
   "id": "48480f82-a058-4277-adbe-ecf0fddd86a2",
   "metadata": {},
   "outputs": [
    {
     "data": {
      "text/plain": [
       "Index(['DE_CONSUMPTION', 'FR_CONSUMPTION', 'DE_FR_EXCHANGE', 'FR_DE_EXCHANGE',\n",
       "       'DE_NET_EXPORT', 'FR_NET_EXPORT', 'DE_NET_IMPORT', 'FR_NET_IMPORT',\n",
       "       'DE_GAS', 'FR_GAS', 'DE_COAL', 'FR_COAL', 'DE_HYDRO', 'FR_HYDRO',\n",
       "       'DE_NUCLEAR', 'FR_NUCLEAR', 'DE_SOLAR', 'FR_SOLAR', 'DE_WINDPOW',\n",
       "       'FR_WINDPOW', 'DE_LIGNITE', 'DE_RESIDUAL_LOAD', 'FR_RESIDUAL_LOAD',\n",
       "       'DE_RAIN', 'FR_RAIN', 'DE_WIND', 'FR_WIND', 'DE_TEMP', 'FR_TEMP',\n",
       "       'GAS_RET', 'COAL_RET', 'CARBON_RET', 'TARGET', 'FR_PROD_RENEWABLE',\n",
       "       'DE_PROD_RENEWABLE', 'DE_PROD_FOSIL', 'FR_PROD_FOSSIL',\n",
       "       'FR_CONS_RENEWABLE', 'DE_CONS_RENEWABLE'],\n",
       "      dtype='object')"
      ]
     },
     "execution_count": 24,
     "metadata": {},
     "output_type": "execute_result"
    }
   ],
   "source": [
    "data_fr.columns"
   ]
  },
  {
   "cell_type": "code",
   "execution_count": 25,
   "id": "f3f44207-30bb-4354-84d5-d1b0fa9d2149",
   "metadata": {},
   "outputs": [],
   "source": [
    "X = data_fr.drop('TARGET', axis=1)\n",
    "y = data_fr['TARGET']"
   ]
  },
  {
   "cell_type": "code",
   "execution_count": 26,
   "id": "00911687-0eb2-46e7-91a9-e30ec7efb189",
   "metadata": {},
   "outputs": [
    {
     "name": "stdout",
     "output_type": "stream",
     "text": [
      "Best parameters:  {'imputer__fill_value': None, 'imputer__strategy': 'constant', 'model__fit_intercept': True, 'scaler': StandardScaler()}\n",
      "Best score:  -0.08947980405667941\n"
     ]
    }
   ],
   "source": [
    "import numpy as np\n",
    "from sklearn.model_selection import GridSearchCV\n",
    "from sklearn.metrics import make_scorer, accuracy_score\n",
    "from sklearn.pipeline import Pipeline\n",
    "from sklearn.impute import SimpleImputer\n",
    "from sklearn.preprocessing import StandardScaler, MinMaxScaler, RobustScaler\n",
    "from sklearn.linear_model import LinearRegression\n",
    "\n",
    "def grid_search_cv_function(estimator, param_grid, X, y, scoring, cv=5):\n",
    "    grid_search = GridSearchCV(estimator=estimator, param_grid=param_grid, scoring=scoring, cv=cv, refit='r2')\n",
    "    grid_search.fit(X, y)\n",
    "\n",
    "    return grid_search\n",
    "\n",
    "# Define the pipeline\n",
    "pipeline = Pipeline([\n",
    "    ('imputer', SimpleImputer()),\n",
    "    ('scaler', None),\n",
    "    ('model', LinearRegression())\n",
    "])\n",
    "\n",
    "param_grid = {\n",
    "    'imputer__strategy': ['constant', 'mean', 'median'],\n",
    "    'imputer__fill_value': [None],\n",
    "    'scaler' : [StandardScaler(), MinMaxScaler(), RobustScaler()],\n",
    "    'model__fit_intercept': [True, False]\n",
    "}\n",
    "\n",
    "scoring = {\n",
    "    'r2' : 'r2',\n",
    "    'neg_root_mean_squared_error': 'neg_root_mean_squared_error'\n",
    "}\n",
    "\n",
    "X_train, X_test, y_train, y_test = train_test_split(X, y, test_size=0.2, random_state=42)\n",
    "\n",
    "# Perform GridSearchCV using the function\n",
    "grid_search_result = grid_search_cv_function(pipeline, param_grid, X, y, scoring=scoring)\n",
    "\n",
    "# Print best parameters and score\n",
    "print(\"Best parameters: \", grid_search_result.best_params_)\n",
    "print(\"Best score: \", grid_search_result.best_score_)\n",
    "# grid_search_result.best_estimator_\n"
   ]
  },
  {
   "cell_type": "code",
   "execution_count": null,
   "id": "4aac4f54-098b-49e4-98dc-f336ccb61f9a",
   "metadata": {},
   "outputs": [],
   "source": []
  },
  {
   "cell_type": "code",
   "execution_count": 13,
   "id": "4a90147f-ff93-4517-9857-ad188e0d6df9",
   "metadata": {},
   "outputs": [
    {
     "ename": "ValueError",
     "evalue": "scoring is invalid (got ID\n1728    0.049618\n1440   -0.098614\n1768   -0.060879\n1499   -1.905467\n1936   -0.140645\n          ...   \n1468   -3.829396\n1144   -0.194085\n1586    0.077632\n1810   -0.173553\n1611   -0.102751\nName: TARGET, Length: 544, dtype: float64). Refer to the scoring glossary for details: https://scikit-learn.org/stable/glossary.html#term-scoring",
     "output_type": "error",
     "traceback": [
      "\u001b[1;31m---------------------------------------------------------------------------\u001b[0m",
      "\u001b[1;31mValueError\u001b[0m                                Traceback (most recent call last)",
      "\u001b[1;32m~\\AppData\\Local\\Temp\\ipykernel_15432\\456906982.py\u001b[0m in \u001b[0;36m<module>\u001b[1;34m\u001b[0m\n\u001b[0;32m     55\u001b[0m \u001b[1;33m\u001b[0m\u001b[0m\n\u001b[0;32m     56\u001b[0m \u001b[1;31m# Perform GridSearchCV using the function\u001b[0m\u001b[1;33m\u001b[0m\u001b[1;33m\u001b[0m\u001b[0m\n\u001b[1;32m---> 57\u001b[1;33m \u001b[0mgrid_search_result\u001b[0m \u001b[1;33m=\u001b[0m \u001b[0mgrid_search_cv_function\u001b[0m\u001b[1;33m(\u001b[0m\u001b[0mpipeline\u001b[0m\u001b[1;33m,\u001b[0m \u001b[0mparam_grid\u001b[0m\u001b[1;33m,\u001b[0m \u001b[0mscoring\u001b[0m\u001b[1;33m,\u001b[0m \u001b[0mX_train\u001b[0m\u001b[1;33m,\u001b[0m \u001b[0my_train\u001b[0m\u001b[1;33m)\u001b[0m\u001b[1;33m\u001b[0m\u001b[1;33m\u001b[0m\u001b[0m\n\u001b[0m\u001b[0;32m     58\u001b[0m \u001b[1;33m\u001b[0m\u001b[0m\n\u001b[0;32m     59\u001b[0m \u001b[1;31m# Print best parameters and score\u001b[0m\u001b[1;33m\u001b[0m\u001b[1;33m\u001b[0m\u001b[0m\n",
      "\u001b[1;32m~\\AppData\\Local\\Temp\\ipykernel_15432\\456906982.py\u001b[0m in \u001b[0;36mgrid_search_cv_function\u001b[1;34m(estimator, param_grid, X, y, scoring, cv)\u001b[0m\n\u001b[0;32m     25\u001b[0m \u001b[1;33m\u001b[0m\u001b[0m\n\u001b[0;32m     26\u001b[0m     \u001b[0mgrid_search\u001b[0m \u001b[1;33m=\u001b[0m \u001b[0mGridSearchCV\u001b[0m\u001b[1;33m(\u001b[0m\u001b[0mestimator\u001b[0m\u001b[1;33m=\u001b[0m\u001b[0mestimator\u001b[0m\u001b[1;33m,\u001b[0m \u001b[0mparam_grid\u001b[0m\u001b[1;33m=\u001b[0m\u001b[0mparam_grid\u001b[0m\u001b[1;33m,\u001b[0m \u001b[0mscoring\u001b[0m\u001b[1;33m=\u001b[0m\u001b[0mscorer\u001b[0m\u001b[1;33m,\u001b[0m \u001b[0mcv\u001b[0m\u001b[1;33m=\u001b[0m\u001b[0mcv\u001b[0m\u001b[1;33m)\u001b[0m\u001b[1;33m\u001b[0m\u001b[1;33m\u001b[0m\u001b[0m\n\u001b[1;32m---> 27\u001b[1;33m     \u001b[0mgrid_search\u001b[0m\u001b[1;33m.\u001b[0m\u001b[0mfit\u001b[0m\u001b[1;33m(\u001b[0m\u001b[0mX\u001b[0m\u001b[1;33m,\u001b[0m \u001b[0my\u001b[0m\u001b[1;33m)\u001b[0m\u001b[1;33m\u001b[0m\u001b[1;33m\u001b[0m\u001b[0m\n\u001b[0m\u001b[0;32m     28\u001b[0m \u001b[1;33m\u001b[0m\u001b[0m\n\u001b[0;32m     29\u001b[0m     \u001b[1;32mreturn\u001b[0m \u001b[0mgrid_search\u001b[0m\u001b[1;33m\u001b[0m\u001b[1;33m\u001b[0m\u001b[0m\n",
      "\u001b[1;32m~\\anaconda3\\lib\\site-packages\\sklearn\\model_selection\\_search.py\u001b[0m in \u001b[0;36mfit\u001b[1;34m(self, X, y, groups, **fit_params)\u001b[0m\n\u001b[0;32m    793\u001b[0m             \u001b[0mscorers\u001b[0m \u001b[1;33m=\u001b[0m \u001b[0mcheck_scoring\u001b[0m\u001b[1;33m(\u001b[0m\u001b[0mself\u001b[0m\u001b[1;33m.\u001b[0m\u001b[0mestimator\u001b[0m\u001b[1;33m,\u001b[0m \u001b[0mself\u001b[0m\u001b[1;33m.\u001b[0m\u001b[0mscoring\u001b[0m\u001b[1;33m)\u001b[0m\u001b[1;33m\u001b[0m\u001b[1;33m\u001b[0m\u001b[0m\n\u001b[0;32m    794\u001b[0m         \u001b[1;32melse\u001b[0m\u001b[1;33m:\u001b[0m\u001b[1;33m\u001b[0m\u001b[1;33m\u001b[0m\u001b[0m\n\u001b[1;32m--> 795\u001b[1;33m             \u001b[0mscorers\u001b[0m \u001b[1;33m=\u001b[0m \u001b[0m_check_multimetric_scoring\u001b[0m\u001b[1;33m(\u001b[0m\u001b[0mself\u001b[0m\u001b[1;33m.\u001b[0m\u001b[0mestimator\u001b[0m\u001b[1;33m,\u001b[0m \u001b[0mself\u001b[0m\u001b[1;33m.\u001b[0m\u001b[0mscoring\u001b[0m\u001b[1;33m)\u001b[0m\u001b[1;33m\u001b[0m\u001b[1;33m\u001b[0m\u001b[0m\n\u001b[0m\u001b[0;32m    796\u001b[0m             \u001b[0mself\u001b[0m\u001b[1;33m.\u001b[0m\u001b[0m_check_refit_for_multimetric\u001b[0m\u001b[1;33m(\u001b[0m\u001b[0mscorers\u001b[0m\u001b[1;33m)\u001b[0m\u001b[1;33m\u001b[0m\u001b[1;33m\u001b[0m\u001b[0m\n\u001b[0;32m    797\u001b[0m             \u001b[0mrefit_metric\u001b[0m \u001b[1;33m=\u001b[0m \u001b[0mself\u001b[0m\u001b[1;33m.\u001b[0m\u001b[0mrefit\u001b[0m\u001b[1;33m\u001b[0m\u001b[1;33m\u001b[0m\u001b[0m\n",
      "\u001b[1;32m~\\anaconda3\\lib\\site-packages\\sklearn\\metrics\\_scorer.py\u001b[0m in \u001b[0;36m_check_multimetric_scoring\u001b[1;34m(estimator, scoring)\u001b[0m\n\u001b[0;32m    572\u001b[0m         }\n\u001b[0;32m    573\u001b[0m     \u001b[1;32melse\u001b[0m\u001b[1;33m:\u001b[0m\u001b[1;33m\u001b[0m\u001b[1;33m\u001b[0m\u001b[0m\n\u001b[1;32m--> 574\u001b[1;33m         \u001b[1;32mraise\u001b[0m \u001b[0mValueError\u001b[0m\u001b[1;33m(\u001b[0m\u001b[0merr_msg_generic\u001b[0m\u001b[1;33m)\u001b[0m\u001b[1;33m\u001b[0m\u001b[1;33m\u001b[0m\u001b[0m\n\u001b[0m\u001b[0;32m    575\u001b[0m     \u001b[1;32mreturn\u001b[0m \u001b[0mscorers\u001b[0m\u001b[1;33m\u001b[0m\u001b[1;33m\u001b[0m\u001b[0m\n\u001b[0;32m    576\u001b[0m \u001b[1;33m\u001b[0m\u001b[0m\n",
      "\u001b[1;31mValueError\u001b[0m: scoring is invalid (got ID\n1728    0.049618\n1440   -0.098614\n1768   -0.060879\n1499   -1.905467\n1936   -0.140645\n          ...   \n1468   -3.829396\n1144   -0.194085\n1586    0.077632\n1810   -0.173553\n1611   -0.102751\nName: TARGET, Length: 544, dtype: float64). Refer to the scoring glossary for details: https://scikit-learn.org/stable/glossary.html#term-scoring"
     ]
    }
   ],
   "source": [
    "import numpy as np\n",
    "from sklearn.model_selection import GridSearchCV\n",
    "from sklearn.metrics import make_scorer, accuracy_score\n",
    "\n",
    "def grid_search_cv_function(estimator, param_grid, X, y, scoring, cv=5):\n",
    "    \"\"\"\n",
    "    Perform GridSearchCV on the given estimator and parameter grid.\n",
    "    \n",
    "    Parameters:\n",
    "    estimator (sklearn estimator): The estimator to optimize.\n",
    "    param_grid (dict): The parameter grid to search over.\n",
    "    X (array-like): The input data.\n",
    "    y (array-like): The target labels.\n",
    "    scoring (str, callable, or None): Scikit-learn scoring method, default is 'accuracy'.\n",
    "    cv (int): Number of cross-validation folds, default is 5.\n",
    "    \n",
    "    Returns:\n",
    "    grid_search (GridSearchCV object): The fitted GridSearchCV object.\n",
    "    \"\"\"\n",
    "\n",
    "    if isinstance(scoring, str):\n",
    "        scorer = make_scorer(accuracy_score) if scoring == 'accuracy' else scoring\n",
    "    else:\n",
    "        scorer = scoring\n",
    "\n",
    "    grid_search = GridSearchCV(estimator=estimator, param_grid=param_grid, scoring=scorer, cv=cv)\n",
    "    grid_search.fit(X, y)\n",
    "\n",
    "    return grid_search\n",
    "\n",
    "\n",
    "from sklearn.ensemble import RandomForestClassifier\n",
    "from sklearn.datasets import load_iris\n",
    "\n",
    "\n",
    "X_train, X_test, y_train, y_test = train_test_split(X, y, test_size=0.2, random_state=42)\n",
    "\n",
    "pipeline = Pipeline([\n",
    "    ('imputer', SimpleImputer()),\n",
    "    ('scaler', None),\n",
    "    ('model', LinearRegression())\n",
    "])\n",
    "\n",
    "param_grid = {\n",
    "    'imputer__strategy': ['constant', 'mean', 'median'],\n",
    "    'imputer__fill_value': [None],\n",
    "    'scaler' : [StandardScaler(), MinMaxScaler(), RobustScaler()],\n",
    "    'model__fit_intercept': [True, False]\n",
    "}\n",
    "\n",
    "scoring = {\n",
    "    'r2' : 'r2',\n",
    "    'neg_root_mean_squared_error': 'neg_root_mean_squared_error'\n",
    "}\n",
    "\n",
    "# Perform GridSearchCV using the function\n",
    "grid_search_result = grid_search_cv_function(pipeline, param_grid, scoring, X_train, y_train)\n",
    "\n",
    "# Print best parameters and score\n",
    "print(\"Best parameters: \", grid_search_result.best_params_)\n",
    "print(\"Best score: \", grid_search_result.best_score_)\n"
   ]
  },
  {
   "cell_type": "code",
   "execution_count": null,
   "id": "ae5f0a85-0161-4e39-94d7-001a224ce40f",
   "metadata": {},
   "outputs": [],
   "source": []
  },
  {
   "cell_type": "code",
   "execution_count": null,
   "id": "943496e2-6b1a-42e7-8689-780f2e7957d3",
   "metadata": {},
   "outputs": [],
   "source": []
  },
  {
   "cell_type": "code",
   "execution_count": null,
   "id": "e71ebcf7-b70b-4c06-b191-38714efec7b4",
   "metadata": {},
   "outputs": [],
   "source": []
  },
  {
   "cell_type": "code",
   "execution_count": null,
   "id": "5963c05c-2b56-469d-a457-aa77e62fafe6",
   "metadata": {},
   "outputs": [],
   "source": []
  },
  {
   "cell_type": "code",
   "execution_count": 35,
   "id": "5797eee7-0ca2-4e07-92d9-d5c4e1e56272",
   "metadata": {},
   "outputs": [
    {
     "name": "stdout",
     "output_type": "stream",
     "text": [
      "Fitting 5 folds for each of 18 candidates, totalling 90 fits\n",
      "estimator : Pipeline(steps=[('imputer', SimpleImputer(strategy='constant')),\n",
      "                ('scaler', StandardScaler()),\n",
      "                ('model', LinearRegression(fit_intercept=False))])\n",
      "best_score : -0.08439895147901197\n",
      "r2 -0.08439895147901197\n",
      "neg_root_mean_squared_error -0.9897219688531124\n",
      "Done\n",
      "RMSE: 1.44\n",
      "R2 Score: -0.04\n",
      "Spearman correlation coefficient: 0.15\n"
     ]
    }
   ],
   "source": [
    "X_train, X_test, y_train, y_test = train_test_split(X, y, test_size=0.2, random_state=42)\n",
    "\n",
    "pipeline = Pipeline([\n",
    "    ('imputer', SimpleImputer()),\n",
    "    ('scaler', None),\n",
    "    ('model', LinearRegression())\n",
    "])\n",
    "\n",
    "param_grid = {\n",
    "    'imputer__strategy': ['constant', 'mean', 'median'],\n",
    "    'imputer__fill_value': [None],\n",
    "    'scaler' : [StandardScaler(), MinMaxScaler(), RobustScaler()],\n",
    "    'model__fit_intercept': [True, False]\n",
    "}\n",
    "    \n",
    "scoring = {\n",
    "    'r2' : 'r2',\n",
    "    'neg_root_mean_squared_error': 'neg_root_mean_squared_error'\n",
    "}\n",
    "gs = GridSearchCV(pipeline, param_grid, n_jobs=3, scoring=scoring, refit='r2', verbose=1)\n",
    "gs.fit(X_train, y_train);\n",
    "print('estimator :',gs.best_estimator_)\n",
    "print('best_score :',gs.best_score_)\n",
    "if gs.multimetric_:\n",
    "    for scorer in scoring:\n",
    "        best_index = gs.cv_results_['rank_test_'+scorer].argmin()\n",
    "        print(scorer, gs.cv_results_['mean_test_'+scorer][best_index])\n",
    "print('Done')\n",
    "\n",
    "y_pred = gs.predict(X_test)\n",
    "\n",
    "rmse = mean_squared_error(y_test, y_pred, squared=False)\n",
    "print(\"RMSE: {:.2f}\".format(rmse))\n",
    "\n",
    "r2 = r2_score(y_test, y_pred)\n",
    "print(\"R2 Score: {:.2f}\".format(r2))\n",
    "\n",
    "spearman = spearmanr(y_test, y_pred)[0]\n",
    "print(\"Spearman correlation coefficient: {:.2f}\".format(spearman))\n"
   ]
  },
  {
   "cell_type": "markdown",
   "id": "c2537f0b-b8f2-4d95-9d89-ab66ab577ca4",
   "metadata": {},
   "source": [
    "# Allemagne"
   ]
  },
  {
   "cell_type": "code",
   "execution_count": null,
   "id": "754ed9b0-7b9a-4291-85ea-52709c52f570",
   "metadata": {},
   "outputs": [],
   "source": []
  }
 ],
 "metadata": {
  "kernelspec": {
   "display_name": "Python 3 (ipykernel)",
   "language": "python",
   "name": "python3"
  },
  "language_info": {
   "codemirror_mode": {
    "name": "ipython",
    "version": 3
   },
   "file_extension": ".py",
   "mimetype": "text/x-python",
   "name": "python",
   "nbconvert_exporter": "python",
   "pygments_lexer": "ipython3",
   "version": "3.9.13"
  }
 },
 "nbformat": 4,
 "nbformat_minor": 5
}
