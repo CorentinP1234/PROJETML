{
 "cells": [
  {
   "cell_type": "markdown",
   "id": "88ccf608-95bd-492b-905e-7ab84f1e0d02",
   "metadata": {},
   "source": [
    "# 3 Analyse exploratoire des donnees ´\n",
    "Cette phase consiste a : `\n",
    "1. identifier la variable cible qui doit ˆetre pr´edite. Dans ce projet la variable pr´edite est la variation\n",
    "journali`ere des prix des futures (la colonne TARGET dans les datasets Y train et Y test).\n",
    "2. effectuer une analyse exploratoire des donn´ees (EDA, Exploratory Data Analysis) par une vari´et´e de\n",
    "graphiques et de statistiques en suivant les ´etapes suivantes :\n",
    "\n",
    "— Faire un aperc¸u des variables en examinant leur type, leur distribution, leur plage de valeurs et leur\n",
    "signification\n",
    "\n",
    "— Examiner la relation entre les variables caract´eristiques et la variable cible en utilisant des techniques\n",
    "graphiques telles que des histogrammes, des diagrammes en boˆıte et des graphiques de dispersion\n",
    "\n",
    "— Construire une matrice de corr´elation entre les variables\n",
    "\n",
    "— Interpr´eter les r´esultats de l’EDA pour identifier les caract´eristiques importantes qui influencent le\n",
    "prix de l’´electricit´e et les relations significatives entre les variables\n",
    "\n",
    "Pour bien maˆıtriser cette phase, je vous invite a consulter le lien suivant : ` Python for Data Science: Implementing\n",
    "Exploratory Data Analysis (EDA) and K-Means Clustering\n",
    "https://medium.com/@aziszamcalvin/python-for-data-science-implementing-exploratory-data-analysis-eda-and-k-means-clustering-bcf1d24adc12"
   ]
  },
  {
   "cell_type": "code",
   "execution_count": null,
   "id": "7ce04f9a-aa54-4056-9c26-b8b5a261995f",
   "metadata": {},
   "outputs": [],
   "source": []
  }
 ],
 "metadata": {
  "kernelspec": {
   "display_name": "Python 3 (ipykernel)",
   "language": "python",
   "name": "python3"
  },
  "language_info": {
   "codemirror_mode": {
    "name": "ipython",
    "version": 3
   },
   "file_extension": ".py",
   "mimetype": "text/x-python",
   "name": "python",
   "nbconvert_exporter": "python",
   "pygments_lexer": "ipython3",
   "version": "3.9.13"
  }
 },
 "nbformat": 4,
 "nbformat_minor": 5
}
