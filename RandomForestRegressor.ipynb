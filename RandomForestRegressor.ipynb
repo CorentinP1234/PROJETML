{
 "cells": [
  {
   "cell_type": "code",
   "execution_count": 1,
   "id": "8110704d",
   "metadata": {},
   "outputs": [],
   "source": [
    "import numpy as np\n",
    "import pandas as pd\n",
    "import matplotlib.pyplot as plt\n",
    "import seaborn as sns\n",
    "from pprint import pformat\n",
    "\n",
    "# Prétraitement des données\n",
    "from sklearn.impute import SimpleImputer\n",
    "from sklearn.preprocessing import StandardScaler, MinMaxScaler, RobustScaler\n",
    "from sklearn.feature_selection import SelectKBest, f_regression\n",
    "from sklearn.pipeline import Pipeline\n",
    "\n",
    "# Modèles\n",
    "from sklearn.linear_model import LinearRegression, Ridge, Lasso\n",
    "from sklearn.neighbors import KNeighborsRegressor\n",
    "from sklearn.tree import DecisionTreeRegressor\n",
    "from sklearn.ensemble import RandomForestRegressor\n",
    "\n",
    "# Évaluation des modèles\n",
    "from sklearn.metrics import make_scorer, r2_score, mean_squared_error\n",
    "from scipy.stats import spearmanr\n",
    "\n",
    "# Validation croisée et recherche de modèle\n",
    "from sklearn.model_selection import train_test_split, GridSearchCV, RandomizedSearchCV, KFold\n",
    "\n",
    "from print_test_results import get_test_results, print_test_results, get_comparison_table\n",
    "from IPython.display import Markdown"
   ]
  },
  {
   "cell_type": "markdown",
   "id": "6d580e3d-35e5-4a86-9b6f-0e99d8a8be12",
   "metadata": {},
   "source": [
    "# RandomForestRegressor"
   ]
  },
  {
   "cell_type": "code",
   "execution_count": 2,
   "id": "f149fce6",
   "metadata": {},
   "outputs": [],
   "source": [
    "pipeline = Pipeline([\n",
    "    ('imputer', SimpleImputer()),\n",
    "    ('scaler', None),\n",
    "    ('model', RandomForestRegressor())\n",
    "])\n",
    "\n",
    "param_grid = {\n",
    "    'imputer__strategy': ['constant', 'mean', 'median'],\n",
    "    'imputer__fill_value': [None],\n",
    "    'scaler' : [None, StandardScaler(), MinMaxScaler(), RobustScaler()],\n",
    "    'model__max_depth': range(1, 21),\n",
    "    'model__min_samples_split': range(2, 11),\n",
    "    'model__min_samples_leaf': range(1, 11)\n",
    "}\n",
    "\n",
    "scoring = {\n",
    "    'r2' : 'r2',\n",
    "    'neg_root_mean_squared_error': 'neg_root_mean_squared_error'\n",
    "}\n",
    "\n",
    "refit = 'r2'\n",
    "cv = 5\n",
    "n_iter = 30\n",
    "\n",
    "test_results = {\n",
    "    'fr':{},\n",
    "    'de':{}\n",
    "}"
   ]
  },
  {
   "cell_type": "markdown",
   "id": "82181553",
   "metadata": {},
   "source": [
    "## France"
   ]
  },
  {
   "cell_type": "code",
   "execution_count": 3,
   "id": "829462dd",
   "metadata": {},
   "outputs": [
    {
     "data": {
      "text/plain": [
       "(680, 39)"
      ]
     },
     "execution_count": 3,
     "metadata": {},
     "output_type": "execute_result"
    }
   ],
   "source": [
    "data_fr = pd.read_csv('data/Data_FR.csv', index_col='ID')\n",
    "data_fr.shape"
   ]
  },
  {
   "cell_type": "code",
   "execution_count": 4,
   "id": "3cab138e",
   "metadata": {},
   "outputs": [],
   "source": [
    "X = data_fr.drop('TARGET', axis=1)\n",
    "y = data_fr['TARGET']"
   ]
  },
  {
   "cell_type": "code",
   "execution_count": 5,
   "id": "db22a873",
   "metadata": {},
   "outputs": [
    {
     "name": "stdout",
     "output_type": "stream",
     "text": [
      "Fitting 5 folds for each of 30 candidates, totalling 150 fits\n",
      "\n",
      "RandomForestRegressor FR\n",
      " Best estimator: \n",
      "  imputer : SimpleImputer(strategy='constant')\n",
      "  scaler : StandardScaler()\n",
      "  model : RandomForestRegressor(max_depth=1, min_samples_leaf=6, min_samples_split=4)\n",
      " Metrics:\n",
      "  rmse: 1.426\n",
      "  r2: -0.018\n",
      "  r2 ajusté: -0.417\n",
      "  spearman: 0.082\n",
      "Wall time: 15.8 s\n"
     ]
    }
   ],
   "source": [
    "%%time\n",
    "\n",
    "X_train, X_test, y_train, y_test = train_test_split(X, y, test_size=0.2, random_state=42)\n",
    "\n",
    "grid_search = RandomizedSearchCV(pipeline, param_grid, scoring=scoring,n_iter=n_iter, cv=cv, refit=refit, n_jobs=-1, verbose=1, random_state=42)\n",
    "grid_search.fit(X_train, y_train)\n",
    "\n",
    "test_results['fr'] = get_test_results(grid_search, X_test, y_test)\n",
    "print_test_results(test_results['fr'], refit, title='RandomForestRegressor FR')"
   ]
  },
  {
   "cell_type": "markdown",
   "id": "66520c02",
   "metadata": {},
   "source": [
    "## Allemagne"
   ]
  },
  {
   "cell_type": "code",
   "execution_count": 6,
   "id": "1b37bd4c",
   "metadata": {},
   "outputs": [
    {
     "data": {
      "text/plain": [
       "(596, 39)"
      ]
     },
     "execution_count": 6,
     "metadata": {},
     "output_type": "execute_result"
    }
   ],
   "source": [
    "data_de = pd.read_csv('data/Data_DE.csv', index_col='ID')\n",
    "data_de.shape"
   ]
  },
  {
   "cell_type": "code",
   "execution_count": 7,
   "id": "5dbc2ea3",
   "metadata": {},
   "outputs": [],
   "source": [
    "X = data_de.drop('TARGET', axis=1)\n",
    "y = data_de['TARGET']"
   ]
  },
  {
   "cell_type": "code",
   "execution_count": 8,
   "id": "b7e099d9",
   "metadata": {},
   "outputs": [
    {
     "name": "stdout",
     "output_type": "stream",
     "text": [
      "Fitting 5 folds for each of 30 candidates, totalling 150 fits\n",
      "\n",
      "RandomForestRegressor DE\n",
      " Best estimator: \n",
      "  imputer : SimpleImputer(strategy='constant')\n",
      "  scaler : None\n",
      "  model : RandomForestRegressor(max_depth=1, min_samples_leaf=9, min_samples_split=10)\n",
      " Metrics:\n",
      "  rmse: 1.035\n",
      "  r2: 0.06\n",
      "  r2 ajusté: -0.381\n",
      "  spearman: 0.327\n",
      "Wall time: 9.78 s\n"
     ]
    }
   ],
   "source": [
    "%%time\n",
    "\n",
    "X_train, X_test, y_train, y_test = train_test_split(X, y, test_size=0.2, random_state=42)\n",
    "\n",
    "grid_search = RandomizedSearchCV(pipeline, param_grid, scoring=scoring, n_iter=n_iter, cv=cv, refit=refit, n_jobs=-1, verbose=1)\n",
    "grid_search.fit(X_train, y_train)\n",
    "\n",
    "test_results['de'] = get_test_results(grid_search, X_test, y_test)\n",
    "print_test_results(test_results['de'], refit, title='RandomForestRegressor DE')"
   ]
  },
  {
   "cell_type": "markdown",
   "id": "ff24aef5-da6c-4832-9f6d-3e5381eb4437",
   "metadata": {},
   "source": [
    "# Conclusion"
   ]
  },
  {
   "cell_type": "code",
   "execution_count": 9,
   "id": "1a45faf6-be9c-4e48-b9e9-f1f255dcc9b3",
   "metadata": {},
   "outputs": [
    {
     "data": {
      "text/markdown": [
       "| RandomForestRegressor      | FR                                       | DE                                       |\n",
       "|-------------|-----------------------------------------|-----------------------------------------|\n",
       "| Imputer     | SimpleImputer(strategy='constant')| SimpleImputer(strategy='constant')|\n",
       "| Scaler      | StandardScaler() | None |\n",
       "| Model       | RandomForestRegressor(max_depth=1, min_samples_leaf=6, min_samples_split=4)  | RandomForestRegressor(max_depth=1, min_samples_leaf=9, min_samples_split=10)  |\n",
       "| RMSE        | 1.426            | 1.035            |\n",
       "| R2          | -0.018              | 0.06              |\n",
       "| R2 ajusté   | -0.417       | -0.381       |\n",
       "| Spearman    | 0.082        | 0.327        |"
      ],
      "text/plain": [
       "<IPython.core.display.Markdown object>"
      ]
     },
     "execution_count": 9,
     "metadata": {},
     "output_type": "execute_result"
    }
   ],
   "source": [
    "markdown_table = get_comparison_table(test_results, title='RandomForestRegressor')\n",
    "Markdown(markdown_table)"
   ]
  },
  {
   "cell_type": "code",
   "execution_count": null,
   "id": "4f124e26-1ca7-451e-ac1a-4d374b7c01c3",
   "metadata": {},
   "outputs": [],
   "source": []
  }
 ],
 "metadata": {
  "kernelspec": {
   "display_name": "Python 3 (ipykernel)",
   "language": "python",
   "name": "python3"
  },
  "language_info": {
   "codemirror_mode": {
    "name": "ipython",
    "version": 3
   },
   "file_extension": ".py",
   "mimetype": "text/x-python",
   "name": "python",
   "nbconvert_exporter": "python",
   "pygments_lexer": "ipython3",
   "version": "3.9.13"
  }
 },
 "nbformat": 4,
 "nbformat_minor": 5
}
