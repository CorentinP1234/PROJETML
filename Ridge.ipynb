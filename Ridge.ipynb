{
 "cells": [
  {
   "cell_type": "code",
   "execution_count": 1,
   "id": "8110704d",
   "metadata": {},
   "outputs": [],
   "source": [
    "import numpy as np\n",
    "import pandas as pd\n",
    "import matplotlib.pyplot as plt\n",
    "import seaborn as sns\n",
    "from pprint import pformat\n",
    "\n",
    "# Prétraitement des données\n",
    "from sklearn.impute import SimpleImputer\n",
    "from sklearn.preprocessing import StandardScaler, MinMaxScaler, RobustScaler\n",
    "from sklearn.feature_selection import SelectKBest, f_regression\n",
    "from sklearn.pipeline import Pipeline\n",
    "\n",
    "# Modèles\n",
    "from sklearn.linear_model import LinearRegression, Ridge, Lasso\n",
    "from sklearn.neighbors import KNeighborsRegressor\n",
    "from sklearn.tree import DecisionTreeRegressor\n",
    "from sklearn.ensemble import RandomForestRegressor\n",
    "\n",
    "# Évaluation des modèles\n",
    "from sklearn.metrics import make_scorer, r2_score, mean_squared_error\n",
    "from scipy.stats import spearmanr\n",
    "\n",
    "# Validation croisée et recherche de modèle\n",
    "from sklearn.model_selection import train_test_split, GridSearchCV, RandomizedSearchCV, KFold"
   ]
  },
  {
   "cell_type": "markdown",
   "id": "6d580e3d-35e5-4a86-9b6f-0e99d8a8be12",
   "metadata": {},
   "source": [
    "# Ridge"
   ]
  },
  {
   "cell_type": "code",
   "execution_count": 2,
   "id": "f149fce6",
   "metadata": {},
   "outputs": [],
   "source": [
    "results = {\n",
    "    'fr':{},\n",
    "    'de':{}\n",
    "}"
   ]
  },
  {
   "cell_type": "markdown",
   "id": "82181553",
   "metadata": {},
   "source": [
    "## France"
   ]
  },
  {
   "cell_type": "code",
   "execution_count": 3,
   "id": "829462dd",
   "metadata": {},
   "outputs": [
    {
     "data": {
      "text/plain": [
       "(680, 39)"
      ]
     },
     "execution_count": 3,
     "metadata": {},
     "output_type": "execute_result"
    }
   ],
   "source": [
    "data_fr = pd.read_csv('data/Data_FR.csv', index_col='ID')\n",
    "data_fr.shape"
   ]
  },
  {
   "cell_type": "code",
   "execution_count": 4,
   "id": "14cdbbf9",
   "metadata": {},
   "outputs": [
    {
     "data": {
      "text/plain": [
       "Index(['DE_CONSUMPTION', 'FR_CONSUMPTION', 'DE_FR_EXCHANGE', 'FR_DE_EXCHANGE',\n",
       "       'DE_NET_EXPORT', 'FR_NET_EXPORT', 'DE_NET_IMPORT', 'FR_NET_IMPORT',\n",
       "       'DE_GAS', 'FR_GAS', 'DE_COAL', 'FR_COAL', 'DE_HYDRO', 'FR_HYDRO',\n",
       "       'DE_NUCLEAR', 'FR_NUCLEAR', 'DE_SOLAR', 'FR_SOLAR', 'DE_WINDPOW',\n",
       "       'FR_WINDPOW', 'DE_LIGNITE', 'DE_RESIDUAL_LOAD', 'FR_RESIDUAL_LOAD',\n",
       "       'DE_RAIN', 'FR_RAIN', 'DE_WIND', 'FR_WIND', 'DE_TEMP', 'FR_TEMP',\n",
       "       'GAS_RET', 'COAL_RET', 'CARBON_RET', 'TARGET', 'FR_PROD_RENEWABLE',\n",
       "       'DE_PROD_RENEWABLE', 'DE_PROD_FOSIL', 'FR_PROD_FOSSIL',\n",
       "       'FR_CONS_RENEWABLE', 'DE_CONS_RENEWABLE'],\n",
       "      dtype='object')"
      ]
     },
     "execution_count": 4,
     "metadata": {},
     "output_type": "execute_result"
    }
   ],
   "source": [
    "data_fr.columns"
   ]
  },
  {
   "cell_type": "code",
   "execution_count": 5,
   "id": "3cab138e",
   "metadata": {},
   "outputs": [],
   "source": [
    "X = data_fr.drop('TARGET', axis=1)\n",
    "y = data_fr['TARGET']"
   ]
  },
  {
   "cell_type": "code",
   "execution_count": 6,
   "id": "db22a873",
   "metadata": {},
   "outputs": [
    {
     "name": "stdout",
     "output_type": "stream",
     "text": [
      "Best estimator: \n",
      "  ('imputer', SimpleImputer(strategy='constant'))\n",
      "  ('scaler', StandardScaler())\n",
      "  ('model', Ridge(alpha=1000.0))\n",
      "rmse: 1.41\n",
      "r2: 0.005\n",
      "Adjusted R-squared: -0.385\n",
      "spearman: 0.256\n",
      "Done\n"
     ]
    }
   ],
   "source": [
    "from print_test_results import print_test_results\n",
    "\n",
    "pipeline = Pipeline([\n",
    "    ('imputer', SimpleImputer()),\n",
    "    ('scaler', None),\n",
    "    ('model', Ridge())\n",
    "])\n",
    "\n",
    "param_grid = {\n",
    "    'imputer__strategy': ['constant', 'mean', 'median'],\n",
    "    'imputer__fill_value': [None],\n",
    "    'scaler' : [StandardScaler(), MinMaxScaler(), RobustScaler()],\n",
    "    'model__alpha': np.logspace(-3, 3).tolist()\n",
    "}\n",
    "\n",
    "scoring = {\n",
    "    'r2' : 'r2',\n",
    "    'neg_root_mean_squared_error': 'neg_root_mean_squared_error'\n",
    "}\n",
    "\n",
    "refit = 'RMSE'\n",
    "refit = 'neg_root_mean_squared_error'\n",
    "\n",
    "X_train, X_test, y_train, y_test = train_test_split(X, y, test_size=0.2, random_state=42)\n",
    "\n",
    "grid_search = GridSearchCV(pipeline, param_grid, scoring=scoring, cv=5, refit=refit, n_jobs=-1)\n",
    "grid_search.fit(X_train, y_train)\n",
    "results['fr'] = print_test_results(grid_search, X_test, y_test)"
   ]
  },
  {
   "cell_type": "markdown",
   "id": "66520c02",
   "metadata": {},
   "source": [
    "## Allemagne"
   ]
  },
  {
   "cell_type": "code",
   "execution_count": 7,
   "id": "1b37bd4c",
   "metadata": {},
   "outputs": [
    {
     "data": {
      "text/plain": [
       "(596, 39)"
      ]
     },
     "execution_count": 7,
     "metadata": {},
     "output_type": "execute_result"
    }
   ],
   "source": [
    "data_de = pd.read_csv('data/Data_DE.csv', index_col='ID')\n",
    "data_de.shape"
   ]
  },
  {
   "cell_type": "code",
   "execution_count": 8,
   "id": "79bc0f5d",
   "metadata": {},
   "outputs": [
    {
     "data": {
      "text/plain": [
       "Index(['DE_CONSUMPTION', 'FR_CONSUMPTION', 'DE_FR_EXCHANGE', 'FR_DE_EXCHANGE',\n",
       "       'DE_NET_EXPORT', 'FR_NET_EXPORT', 'DE_NET_IMPORT', 'FR_NET_IMPORT',\n",
       "       'DE_GAS', 'FR_GAS', 'DE_COAL', 'FR_COAL', 'DE_HYDRO', 'FR_HYDRO',\n",
       "       'DE_NUCLEAR', 'FR_NUCLEAR', 'DE_SOLAR', 'FR_SOLAR', 'DE_WINDPOW',\n",
       "       'FR_WINDPOW', 'DE_LIGNITE', 'DE_RESIDUAL_LOAD', 'FR_RESIDUAL_LOAD',\n",
       "       'DE_RAIN', 'FR_RAIN', 'DE_WIND', 'FR_WIND', 'DE_TEMP', 'FR_TEMP',\n",
       "       'GAS_RET', 'COAL_RET', 'CARBON_RET', 'TARGET', 'FR_PROD_RENEWABLE',\n",
       "       'DE_PROD_RENEWABLE', 'DE_PROD_FOSIL', 'FR_PROD_FOSSIL',\n",
       "       'FR_CONS_RENEWABLE', 'DE_CONS_RENEWABLE'],\n",
       "      dtype='object')"
      ]
     },
     "execution_count": 8,
     "metadata": {},
     "output_type": "execute_result"
    }
   ],
   "source": [
    "data_de.columns"
   ]
  },
  {
   "cell_type": "code",
   "execution_count": 9,
   "id": "5dbc2ea3",
   "metadata": {},
   "outputs": [],
   "source": [
    "X = data_de.drop('TARGET', axis=1)\n",
    "y = data_de['TARGET']"
   ]
  },
  {
   "cell_type": "code",
   "execution_count": 10,
   "id": "b7e099d9",
   "metadata": {},
   "outputs": [
    {
     "name": "stdout",
     "output_type": "stream",
     "text": [
      "Best estimator: \n",
      "  ('imputer', SimpleImputer(strategy='constant'))\n",
      "  ('scaler', MinMaxScaler())\n",
      "  ('model', Ridge(alpha=8.286427728546842))\n",
      "rmse: 1.045\n",
      "r2: 0.041\n",
      "Adjusted R-squared: -0.409\n",
      "spearman: 0.358\n",
      "Done\n"
     ]
    }
   ],
   "source": [
    "from print_test_results import print_test_results\n",
    "\n",
    "pipeline = Pipeline([\n",
    "    ('imputer', SimpleImputer()),\n",
    "    ('scaler', None),\n",
    "    ('model', Ridge())\n",
    "])\n",
    "\n",
    "param_grid = {\n",
    "    'imputer__strategy': ['constant', 'mean', 'median'],\n",
    "    'imputer__fill_value': [None],\n",
    "    'scaler' : [StandardScaler(), MinMaxScaler(), RobustScaler()],\n",
    "    'model__alpha': np.logspace(-3, 3).tolist()\n",
    "}\n",
    "\n",
    "scoring = {\n",
    "    'r2' : 'r2',\n",
    "    'neg_root_mean_squared_error': 'neg_root_mean_squared_error'\n",
    "}\n",
    "\n",
    "refit = 'RMSE'\n",
    "refit = 'neg_root_mean_squared_error'\n",
    "\n",
    "X_train, X_test, y_train, y_test = train_test_split(X, y, test_size=0.2, random_state=42)\n",
    "\n",
    "grid_search = GridSearchCV(pipeline, param_grid, scoring=scoring, cv=5, refit=refit, n_jobs=-1)\n",
    "grid_search.fit(X_train, y_train)\n",
    "results['de'] = print_test_results(grid_search, X_test, y_test)"
   ]
  },
  {
   "cell_type": "markdown",
   "id": "ff24aef5-da6c-4832-9f6d-3e5381eb4437",
   "metadata": {},
   "source": [
    "# Conclusion"
   ]
  },
  {
   "cell_type": "code",
   "execution_count": null,
   "id": "6cb3fac3-1efc-4f90-a66f-59bb64f8dcc3",
   "metadata": {},
   "outputs": [],
   "source": []
  }
 ],
 "metadata": {
  "kernelspec": {
   "display_name": "Python 3 (ipykernel)",
   "language": "python",
   "name": "python3"
  },
  "language_info": {
   "codemirror_mode": {
    "name": "ipython",
    "version": 3
   },
   "file_extension": ".py",
   "mimetype": "text/x-python",
   "name": "python",
   "nbconvert_exporter": "python",
   "pygments_lexer": "ipython3",
   "version": "3.9.13"
  }
 },
 "nbformat": 4,
 "nbformat_minor": 5
}
