{
 "cells": [
  {
   "cell_type": "markdown",
   "id": "722fd449-07f2-42d5-93ac-0ada5b6e6667",
   "metadata": {
    "tags": []
   },
   "source": [
    "---\n",
    "# Machine Learning pour expliquer les variations journalières des prix des contrats à terme d'électricité en France et en Allemagne\n",
    "---"
   ]
  },
  {
   "cell_type": "markdown",
   "id": "5473242c-0905-4aad-8f29-796fff506c60",
   "metadata": {
    "tags": []
   },
   "source": [
    "# Introduction"
   ]
  },
  {
   "cell_type": "markdown",
   "id": "b55ab8b8-2670-4bc4-a9f9-2925a2b20891",
   "metadata": {
    "tags": []
   },
   "source": [
    "# Compréhension du problème métier"
   ]
  },
  {
   "cell_type": "markdown",
   "id": "dcbc2fad-448d-4fe4-aa85-c94edb25e8c8",
   "metadata": {},
   "source": [
    "## Qu'est-ce que le prix des contrats a terme d'electricite ?"
   ]
  },
  {
   "cell_type": "markdown",
   "id": "8e2c44f9-93b0-4000-86ed-08bb5cc42b3f",
   "metadata": {},
   "source": [
    "Le prix des contrats à terme d'électricité est un prix négocié entre un acheteur et un vendeur pour un certain volume d'électricité à une date future spécifiée. Ces contrats permettent à l'acheteur de garantir un prix fixe pour l'électricité à une date future, ce qui lui permet de se protéger contre les fluctuations imprévues des prix du marché de l'électricité. Pour le vendeur, ces contrats lui permettent de garantir un prix fixe pour la vente d'électricité à une date future, ce qui peut lui permettre de planifier ses revenus futurs avec plus de certitude. Les prix des contrats à terme sont souvent basés sur les prix du marché spot de l'électricité, qui fluctuent en fonction de l'offre et de la demande. Les contrats à terme peuvent avoir des échéances différentes, allant de quelques heures à plusieurs années."
   ]
  },
  {
   "cell_type": "markdown",
   "id": "a72ba2ae-6e5e-4cb7-924e-d4d33662488b",
   "metadata": {},
   "source": [
    "## Qui sont les acheteurs et vendeurs des contrats a terme d'electricite ?"
   ]
  },
  {
   "cell_type": "markdown",
   "id": "6ebcb4d5-c4fe-4bfd-a925-d487c1581929",
   "metadata": {},
   "source": [
    "Les acheteurs peuvent être des consommateurs d'électricité tels que des entreprises industrielles ou commerciales qui ont besoin d'acheter de grandes quantités d'électricité pour leur activité. Les vendeurs peuvent être des producteurs d'énergie tels que des centrales électriques qui produisent de l'électricité et vendent leur production sur le marché de l'électricité, ou des courtiers en énergie qui achètent et vendent de l'électricité sur les marchés pour réaliser des profits."
   ]
  },
  {
   "cell_type": "markdown",
   "id": "9e969be9-460f-4f1f-8477-280eae207bc9",
   "metadata": {
    "tags": []
   },
   "source": [
    "---\n",
    "Compréhension des données\n",
    "==="
   ]
  },
  {
   "cell_type": "markdown",
   "id": "440aaebf-825c-41f2-b0ba-d18151547d02",
   "metadata": {},
   "source": [
    "Nous avons trois datasets au format csv:\n",
    "- **Data_x.csv**: les données d'entrée\n",
    "- **Data_y.csv**: les données de sorties, c'est-à-dire la variation du prix de futures d'électricités\n",
    "- **DataNew_x.csv**: les nouvelles données d'entrée non labélisées"
   ]
  },
  {
   "cell_type": "markdown",
   "id": "31370168-b9cb-4e24-ad4d-ba7a59b0f4b8",
   "metadata": {
    "tags": []
   },
   "source": [
    "Description des données d'entrée \n",
    "---"
   ]
  },
  {
   "cell_type": "markdown",
   "id": "5b408cd8-f557-4361-86da-a83b3bd33c1b",
   "metadata": {},
   "source": [
    "Les datasets d'entrée **Data_x** et **DataNew_x** sont composés de **1494** et **654** entrées respectivement avec **35** variables. \n",
    "Nous avons donc **2148** enregistrements au total."
   ]
  },
  {
   "cell_type": "markdown",
   "id": "714f16d0-17e1-4abb-88ab-580160abb6a6",
   "metadata": {},
   "source": [
    "**1. Identifiants :**\n",
    "  - `ID` : Identifiant unique pour chaque entrée\n",
    "\n",
    "**2. Variables temporelles :**\n",
    "- `DAY_ID` : Date de l'entrée sous forme numérique\n",
    "\n",
    "**3. Variable catégorielle :**\n",
    "- `COUNTRY` : Pays concerné par l'entrée - DE = Allemagne, FR = France\n",
    "\n",
    "**4. Variables de consommation et d'échange d'électricité :**\n",
    "- France:\n",
    "    - `FR_CONSUMPTION` : Consommation d'électricité en France\n",
    "    - `FR_DE_EXCHANGE` : Electricité échangée entre France et Allemagne\n",
    "    - `FR_NET_EXPORT` : Electricité exportée par la France vers l'Europe\n",
    "    - `FR_NET_IMPORT` : Electricité importée en France depuis l'Europe\n",
    "- Allemagne:\n",
    "    - `DE_CONSUMPTION` : Consommation d'électricité en Allemagne\n",
    "    - `DE_FR_EXCHANGE` : Electricité échangée entre Allemagne et France\n",
    "    - `DE_NET_EXPORT` : Electricité exportée par l'Allemagne vers l'Europe\n",
    "    - `DE_NET_IMPORT` : Electricité importée en Allemagne depuis l'Europe\n",
    "\n",
    "**5. Variables de consommation d'énergie :**\n",
    "- France:\n",
    "    - `FR_GAS` : Volume de gaz naturel consommé en France\n",
    "    - `FR_COAL` : Volume de charbon consommé en France\n",
    "- Allemagne:\n",
    "    - `DE_GAS` : Volume de gaz naturel consommé en Allemagne\n",
    "    - `DE_COAL` : Volume de charbon consommé en Allemagne\n",
    "    - `DE_LIGNITE` : Volume de lignite consommé en Allemagne\n",
    "\n",
    "**6. Variables de production d'électricité :**\n",
    "- France:\n",
    "    - `FR_HYDRO` : Production d'électricité d'origine hydraulique en France\n",
    "    - `FR_NUCLEAR` : Production d'électricité d'origine nucléaire en France\n",
    "    - `FR_SOLAR` : Production d'électricité d'origine photovoltaïque en France\n",
    "    - `FR_WINDPOW` : Production d'électricité d'origine éolienne en France\n",
    "- Allemagne:\n",
    "    - `DE_HYDRO` : Production d'électricité d'origine hydraulique en Allemagne\n",
    "    - `DE_NUCLEAR` : Production d'électricité d'origine nucléaire en Allemagne\n",
    "    - `DE_SOLAR` : Production d'électricité d'origine photovoltaïque en Allemagne\n",
    "    - `DE_WINDPOW` : Production d'électricité d'origine éolienne en Allemagne\n",
    "\n",
    "**7. Variables de charge résiduelle :**\n",
    "- France:\n",
    "    - `FR_RESIDUAL_LOAD` : Electricité consommée après utilisation des énergies renouvelables en France\n",
    "- Allemagne:\n",
    "    - `DE_RESIDUAL_LOAD` : Electricité consommée après utilisation des énergies renouvelables en Allemagne\n",
    "\n",
    "**8. Variables météorologiques :**\n",
    "- France:\n",
    "    - `FR_RAIN` : Quantité de pluie tombée en France\n",
    "    - `FR_WIND` : Vitesse du vent en France\n",
    "    - `FR_TEMP` : Température en France\n",
    "- Allemagne:\n",
    "    * `DE_RAIN` : Quantité de pluie tombée en Allemagne\n",
    "    * `DE_WIND` : Vitesse du vent en Allemagne\n",
    "    * `DE_TEMP` : Température en Allemagne\n",
    "\n",
    "**9. Variables de prix :**\n",
    "- `GAS_RET` : Prix journalier du gaz naturel en Europe\n",
    "- `COAL_RET` : Prix journalier du charbon en Europe\n",
    "- `CARBON_RET` : Prix journalier des émissions de carbone en Europe\n"
   ]
  },
  {
   "cell_type": "markdown",
   "id": "597bd18a-0062-4a91-a0cd-507aba9985a5",
   "metadata": {
    "tags": []
   },
   "source": [
    "Description des données de sortie \n",
    "---"
   ]
  },
  {
   "cell_type": "markdown",
   "id": "fd064b2d-3db7-4aa6-9f7f-7f4ae74a4e3d",
   "metadata": {},
   "source": [
    "Le dataset de sortie **Data_y** est composé de **1494** entrées \\\n",
    "avec **2** variables:\n",
    "- `ID` : Identifiant unique pour chaque entrée\n",
    "- `TARGET` : Variation journalière du prix de futures d'électricité (maturité 24h)"
   ]
  },
  {
   "cell_type": "code",
   "execution_count": null,
   "id": "8bfee514-323b-4da6-b1a5-12f2e115dd1c",
   "metadata": {},
   "outputs": [],
   "source": []
  }
 ],
 "metadata": {
  "kernelspec": {
   "display_name": "Python 3 (ipykernel)",
   "language": "python",
   "name": "python3"
  },
  "language_info": {
   "codemirror_mode": {
    "name": "ipython",
    "version": 3
   },
   "file_extension": ".py",
   "mimetype": "text/x-python",
   "name": "python",
   "nbconvert_exporter": "python",
   "pygments_lexer": "ipython3",
   "version": "3.9.13"
  }
 },
 "nbformat": 4,
 "nbformat_minor": 5
}
