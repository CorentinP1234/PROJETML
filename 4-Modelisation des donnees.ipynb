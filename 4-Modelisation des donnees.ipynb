{
 "cells": [
  {
   "cell_type": "markdown",
   "id": "cd21aa03-0baa-4a2c-9514-c1339bbbe016",
   "metadata": {},
   "source": [
    "# 4 Modelisation des donn ´ ees ´\n",
    "Diff´erents algorithmes de Machine Learning seront utilis´es pour entraˆıner des mod`eles de pr´ediction a partir `\n",
    "des donn´ees. Nous proposons d’impl´ementer les six mod`eles de r´egression :\n",
    "1. R´egression lin´eaire simple\n",
    "2. R´egression lin´eaire r´egularis´ee (r´egression RIDGE / r´egression LASSO) : voir lien suivant R´egression\n",
    "Ridge, Lasso et nouvel estimateur\n",
    "3. M´ethode des k plus proches voisins pour la r´egression (K-NN, k-Nearest Neighbors regressor) http://www.xavierdupre.fr/app/papierstat/helpsphinx/notebooks/2020-02-07_sklapi.html\n",
    "4. Arbres de d´ecision pour la r´egression (Decision tree regressor)\n",
    "5. En bonus, les Forˆets al´eatoires (Random Forest regressor)\n",
    "Vous devez comprendre les deux variantes de r´egression lin´eaire r´egularis´ee et les d´ecrire bri`evement dans\n",
    "votre rapport. Pareil pour la m´ethode bonus."
   ]
  },
  {
   "cell_type": "code",
   "execution_count": null,
   "id": "85470c2a-7bbd-471d-ba82-c4a375172be5",
   "metadata": {},
   "outputs": [],
   "source": []
  }
 ],
 "metadata": {
  "kernelspec": {
   "display_name": "Python 3 (ipykernel)",
   "language": "python",
   "name": "python3"
  },
  "language_info": {
   "codemirror_mode": {
    "name": "ipython",
    "version": 3
   },
   "file_extension": ".py",
   "mimetype": "text/x-python",
   "name": "python",
   "nbconvert_exporter": "python",
   "pygments_lexer": "ipython3",
   "version": "3.9.13"
  }
 },
 "nbformat": 4,
 "nbformat_minor": 5
}
