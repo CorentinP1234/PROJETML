{
 "cells": [
  {
   "cell_type": "code",
   "execution_count": 1,
   "id": "8110704d",
   "metadata": {},
   "outputs": [],
   "source": [
    "import numpy as np\n",
    "import pandas as pd\n",
    "import matplotlib.pyplot as plt\n",
    "import seaborn as sns\n",
    "from pprint import pformat\n",
    "\n",
    "# Prétraitement des données\n",
    "from sklearn.impute import SimpleImputer\n",
    "from sklearn.preprocessing import StandardScaler, MinMaxScaler, RobustScaler\n",
    "from sklearn.feature_selection import SelectKBest, f_regression\n",
    "from sklearn.pipeline import Pipeline\n",
    "\n",
    "# Modèles\n",
    "from sklearn.linear_model import LinearRegression, Ridge, Lasso\n",
    "from sklearn.neighbors import KNeighborsRegressor\n",
    "from sklearn.tree import DecisionTreeRegressor\n",
    "from sklearn.ensemble import RandomForestRegressor\n",
    "\n",
    "# Évaluation des modèles\n",
    "from sklearn.metrics import make_scorer, r2_score, mean_squared_error\n",
    "from scipy.stats import spearmanr\n",
    "\n",
    "# Validation croisée et recherche de modèle\n",
    "from sklearn.model_selection import train_test_split, GridSearchCV, RandomizedSearchCV, KFold\n",
    "\n",
    "from print_test_results import get_test_results, print_test_results, get_comparison_table\n",
    "from IPython.display import Markdown"
   ]
  },
  {
   "cell_type": "code",
   "execution_count": 2,
   "id": "7fe518a9-c9f4-4ef0-b6f6-9fd1015aee62",
   "metadata": {},
   "outputs": [],
   "source": [
    "from feature_selection import get_features"
   ]
  },
  {
   "cell_type": "markdown",
   "id": "6d580e3d-35e5-4a86-9b6f-0e99d8a8be12",
   "metadata": {},
   "source": [
    "# DecisionTreeRegressor"
   ]
  },
  {
   "cell_type": "code",
   "execution_count": 3,
   "id": "f149fce6",
   "metadata": {},
   "outputs": [],
   "source": [
    "pipeline = Pipeline([\n",
    "    ('imputer', SimpleImputer()),\n",
    "    ('scaler', None),\n",
    "    ('selection', None),\n",
    "    ('model', DecisionTreeRegressor())\n",
    "])\n",
    "\n",
    "param_grid = {\n",
    "    'imputer__strategy': ['constant', 'mean', 'median'],\n",
    "    'imputer__fill_value': [None],\n",
    "    'scaler' : [None, StandardScaler(), MinMaxScaler(), RobustScaler()],\n",
    "    'model__max_depth': range(1, 21),\n",
    "    'model__min_samples_split': range(2, 11),\n",
    "    'model__min_samples_leaf': range(1, 11)\n",
    "}\n",
    "\n",
    "scoring = {\n",
    "    'r2' : 'r2',\n",
    "    'neg_root_mean_squared_error': 'neg_root_mean_squared_error'\n",
    "}\n",
    "\n",
    "refit = 'r2'\n",
    "cv = 5\n",
    "n_iter = 30\n",
    "\n",
    "test_results = {\n",
    "    'fr':{},\n",
    "    'de':{}\n",
    "}"
   ]
  },
  {
   "cell_type": "markdown",
   "id": "82181553",
   "metadata": {},
   "source": [
    "## France"
   ]
  },
  {
   "cell_type": "code",
   "execution_count": 4,
   "id": "829462dd",
   "metadata": {},
   "outputs": [
    {
     "data": {
      "text/plain": [
       "(680, 41)"
      ]
     },
     "execution_count": 4,
     "metadata": {},
     "output_type": "execute_result"
    }
   ],
   "source": [
    "data_fr = pd.read_csv('data/Data_FR.csv', index_col='ID')\n",
    "data_fr.shape"
   ]
  },
  {
   "cell_type": "code",
   "execution_count": 5,
   "id": "3cab138e",
   "metadata": {},
   "outputs": [
    {
     "data": {
      "text/plain": [
       "Index(['FR_GAS', 'GAS_RET'], dtype='object')"
      ]
     },
     "execution_count": 5,
     "metadata": {},
     "output_type": "execute_result"
    }
   ],
   "source": [
    "X = data_fr.drop('TARGET', axis=1)\n",
    "y = data_fr['TARGET']\n",
    "X = get_features(X, y, DecisionTreeRegressor())\n",
    "X.columns"
   ]
  },
  {
   "cell_type": "code",
   "execution_count": 6,
   "id": "db22a873",
   "metadata": {},
   "outputs": [
    {
     "name": "stdout",
     "output_type": "stream",
     "text": [
      "Fitting 5 folds for each of 30 candidates, totalling 150 fits\n",
      "\n",
      "DecisionTreeRegressor FR\n",
      " Best estimator: \n",
      "  imputer : SimpleImputer(strategy='median')\n",
      "  scaler : RobustScaler()\n",
      "  selection : None\n",
      "  model : DecisionTreeRegressor(max_depth=1, min_samples_split=7)\n",
      " Metrics:\n",
      "  rmse: 1.424\n",
      "  r2: -0.016\n",
      "  r2 ajusté: -0.031\n",
      "  spearman: nan\n",
      "Wall time: 5.99 s\n"
     ]
    },
    {
     "name": "stderr",
     "output_type": "stream",
     "text": [
      "C:\\Users\\coren\\anaconda3\\lib\\site-packages\\scipy\\stats\\_stats_py.py:4878: ConstantInputWarning: An input array is constant; the correlation coefficient is not defined.\n",
      "  warnings.warn(stats.ConstantInputWarning(warn_msg))\n"
     ]
    }
   ],
   "source": [
    "%%time\n",
    "\n",
    "X_train, X_test, y_train, y_test = train_test_split(X, y, test_size=0.2, random_state=42)\n",
    "\n",
    "grid_search = RandomizedSearchCV(pipeline, param_grid, scoring=scoring,n_iter=n_iter, cv=cv, refit=refit, n_jobs=-1, verbose=1, random_state=42)\n",
    "grid_search.fit(X_train, y_train)\n",
    "\n",
    "y_pred = grid_search.predict(X_test)\n",
    "\n",
    "test_results['fr'] = get_test_results(grid_search, X_test, y_test, y_pred)\n",
    "print_test_results(test_results['fr'], refit, title='DecisionTreeRegressor FR')"
   ]
  },
  {
   "cell_type": "code",
   "execution_count": 7,
   "id": "2744ff4c-133e-47e9-b752-d14f17b80dfc",
   "metadata": {},
   "outputs": [
    {
     "data": {
      "image/png": "[encoded data removed]",
      "text/plain": [
       "<Figure size 400x400 with 1 Axes>"
      ]
     },
     "metadata": {},
     "output_type": "display_data"
    }
   ],
   "source": [
    "plt.figure(figsize=(4,4))\n",
    "plt.scatter(y_test, y_pred)\n",
    "\n",
    "# x = y (diagonal) red dotted line\n",
    "plt.axline((0,0), slope=1, color='r', linestyle='--', linewidth=0.8)\n",
    "\n",
    "plt.axis('equal')\n",
    "plt.xlabel('True Values')\n",
    "plt.ylabel('Predictions')\n",
    "plt.title('DecisionTree FR');\n",
    "\n",
    "# Center on (0,0)\n",
    "yabs_max = abs(max(y_pred, key=abs))\n",
    "xabs_max = abs(max(y_test, key=abs))\n",
    "plt.ylim([-yabs_max, yabs_max])\n",
    "plt.xlim([-xabs_max,xabs_max]);"
   ]
  },
  {
   "cell_type": "code",
   "execution_count": 8,
   "id": "2218f335-8d39-4321-9db3-4abff77d36c2",
   "metadata": {},
   "outputs": [
    {
     "data": {
      "text/plain": [
       "Text(0.5, 1.0, 'Top 10 Coefficients (DecisionTree FR)')"
      ]
     },
     "execution_count": 8,
     "metadata": {},
     "output_type": "execute_result"
    },
    {
     "data": {
      "image/png": "[encoded data removed]",
      "text/plain": [
       "<Figure size 640x480 with 1 Axes>"
      ]
     },
     "metadata": {},
     "output_type": "display_data"
    }
   ],
   "source": [
    "NUM_VAR = 10\n",
    "\n",
    "coef = grid_search.best_estimator_.named_steps['model'].feature_importances_\n",
    "\n",
    "coef_df = pd.DataFrame.from_dict({'variable': X.columns, 'importances': coef})\n",
    "# Trie le DataFrame par valeur absolue des coefficients\n",
    "coef_df = coef_df.reindex(coef_df.importances.abs().sort_values(ascending=False).index)\n",
    "# Sélection des `NUM_VAR` premières variables\n",
    "coef_df = coef_df.head(NUM_VAR).sort_values(by='importances', ascending=False)\n",
    "\n",
    "sns.barplot(x='importances', y='variable', data=coef_df, color='tab:blue')\n",
    "plt.title(f'Top {NUM_VAR} Coefficients (DecisionTree FR)')"
   ]
  },
  {
   "cell_type": "markdown",
   "id": "66520c02",
   "metadata": {},
   "source": [
    "## Allemagne"
   ]
  },
  {
   "cell_type": "code",
   "execution_count": 9,
   "id": "1b37bd4c",
   "metadata": {},
   "outputs": [
    {
     "data": {
      "text/plain": [
       "(596, 41)"
      ]
     },
     "execution_count": 9,
     "metadata": {},
     "output_type": "execute_result"
    }
   ],
   "source": [
    "data_de = pd.read_csv('data/Data_DE.csv', index_col='ID')\n",
    "data_de.shape"
   ]
  },
  {
   "cell_type": "code",
   "execution_count": 10,
   "id": "5dbc2ea3",
   "metadata": {},
   "outputs": [],
   "source": [
    "X = data_de.drop('TARGET', axis=1)\n",
    "y = data_de['TARGET']"
   ]
  },
  {
   "cell_type": "code",
   "execution_count": 11,
   "id": "b7e099d9",
   "metadata": {},
   "outputs": [
    {
     "name": "stdout",
     "output_type": "stream",
     "text": [
      "Fitting 5 folds for each of 30 candidates, totalling 150 fits\n",
      "\n",
      "DecisionTreeRegressor DE\n",
      " Best estimator: \n",
      "  imputer : SimpleImputer(strategy='median')\n",
      "  scaler : MinMaxScaler()\n",
      "  selection : None\n",
      "  model : DecisionTreeRegressor(max_depth=2, min_samples_leaf=8, min_samples_split=8)\n",
      " Metrics:\n",
      "  rmse: 1.105\n",
      "  r2: -0.073\n",
      "  r2 ajusté: -0.616\n",
      "  spearman: 0.257\n",
      "Wall time: 1.3 s\n"
     ]
    }
   ],
   "source": [
    "%%time\n",
    "\n",
    "X_train, X_test, y_train, y_test = train_test_split(X, y, test_size=0.2, random_state=42)\n",
    "\n",
    "grid_search = RandomizedSearchCV(pipeline, param_grid, scoring=scoring, n_iter=n_iter, cv=cv, refit=refit, n_jobs=-1, verbose=1)\n",
    "grid_search.fit(X_train, y_train)\n",
    "\n",
    "y_pred = grid_search.predict(X_test)\n",
    "\n",
    "test_results['de'] = get_test_results(grid_search, X_test, y_test, y_pred)\n",
    "print_test_results(test_results['de'], refit, title='DecisionTreeRegressor DE')"
   ]
  },
  {
   "cell_type": "code",
   "execution_count": null,
   "id": "d98f5414-80f2-45fd-b717-24ef1de35f7d",
   "metadata": {},
   "outputs": [],
   "source": []
  },
  {
   "cell_type": "code",
   "execution_count": 12,
   "id": "46d0f6db-f983-4dc9-b1db-cfd62321a2e4",
   "metadata": {},
   "outputs": [
    {
     "data": {
      "text/plain": [
       "Text(0.5, 1.0, 'Top 10 Coefficients (DecisionTree DE)')"
      ]
     },
     "execution_count": 12,
     "metadata": {},
     "output_type": "execute_result"
    },
    {
     "data": {
      "image/png": "[encoded data removed]",
      "text/plain": [
       "<Figure size 640x480 with 1 Axes>"
      ]
     },
     "metadata": {},
     "output_type": "display_data"
    }
   ],
   "source": [
    "NUM_VAR = 10\n",
    "\n",
    "coef = grid_search.best_estimator_.named_steps['model'].feature_importances_\n",
    "\n",
    "coef_df = pd.DataFrame.from_dict({'variable': X.columns, 'coefficient': coef})\n",
    "# Trie le DataFrame par valeur absolue des coefficients\n",
    "coef_df = coef_df.reindex(coef_df.coefficient.abs().sort_values(ascending=False).index)\n",
    "# Sélection des `NUM_VAR` premières variables\n",
    "coef_df = coef_df.head(NUM_VAR).sort_values(by='coefficient', ascending=False)\n",
    "\n",
    "sns.barplot(x='coefficient', y='variable', data=coef_df, color='tab:blue')\n",
    "plt.title(f'Top {NUM_VAR} Coefficients (DecisionTree DE)')"
   ]
  },
  {
   "cell_type": "markdown",
   "id": "ff24aef5-da6c-4832-9f6d-3e5381eb4437",
   "metadata": {},
   "source": [
    "# Conclusion"
   ]
  },
  {
   "cell_type": "code",
   "execution_count": 13,
   "id": "1a45faf6-be9c-4e48-b9e9-f1f255dcc9b3",
   "metadata": {},
   "outputs": [
    {
     "data": {
      "text/markdown": [
       "| DecisionTreeRegressor      | FR                                       | DE                                       |\n",
       "|-------------|--------------------------------------------|--------------------------------------------|\n",
       "| Imputer     | SimpleImputer(strategy='median')   | SimpleImputer(strategy='median')   |\n",
       "| Scaler      | RobustScaler()    | MinMaxScaler()    |\n",
       "| Selection   | None | None |\n",
       "| Model       | DecisionTreeRegressor(max_depth=1, min_samples_split=7)     | DecisionTreeRegressor(max_depth=2, min_samples_leaf=8, min_samples_split=8)     |\n",
       "| RMSE        | 1.424               | 1.105               |\n",
       "| R2          | -0.016                 | -0.073                 |\n",
       "| R2 ajusté   | -0.031          | -0.616          |\n",
       "| Spearman    | nan           | 0.257           |"
      ],
      "text/plain": [
       "<IPython.core.display.Markdown object>"
      ]
     },
     "execution_count": 13,
     "metadata": {},
     "output_type": "execute_result"
    }
   ],
   "source": [
    "markdown_table = get_comparison_table(test_results, title='DecisionTreeRegressor')\n",
    "Markdown(markdown_table)"
   ]
  },
  {
   "cell_type": "code",
   "execution_count": null,
   "id": "906a26cb-f7e9-41a9-aecd-75572525efb3",
   "metadata": {},
   "outputs": [],
   "source": []
  }
 ],
 "metadata": {
  "kernelspec": {
   "display_name": "Python 3 (ipykernel)",
   "language": "python",
   "name": "python3"
  },
  "language_info": {
   "codemirror_mode": {
    "name": "ipython",
    "version": 3
   },
   "file_extension": ".py",
   "mimetype": "text/x-python",
   "name": "python",
   "nbconvert_exporter": "python",
   "pygments_lexer": "ipython3",
   "version": "3.9.13"
  }
 },
 "nbformat": 4,
 "nbformat_minor": 5
}
