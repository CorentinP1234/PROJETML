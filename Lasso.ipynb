{
 "cells": [
  {
   "cell_type": "code",
   "execution_count": 1,
   "id": "6db3f65d-1997-43e0-b91b-6b560e70d967",
   "metadata": {
    "ExecuteTime": {
     "end_time": "2023-05-02T01:18:49.161848Z",
     "start_time": "2023-05-02T01:18:49.105043Z"
    }
   },
   "outputs": [],
   "source": [
    "import numpy as np\n",
    "import pandas as pd\n",
    "import matplotlib.pyplot as plt\n",
    "import seaborn as sns\n",
    "from pprint import pformat\n",
    "\n",
    "# Prétraitement des données\n",
    "from sklearn.impute import SimpleImputer\n",
    "from sklearn.preprocessing import StandardScaler, MinMaxScaler, RobustScaler\n",
    "from sklearn.feature_selection import SelectKBest, f_regression\n",
    "from sklearn.pipeline import Pipeline\n",
    "\n",
    "# Modèles\n",
    "from sklearn.linear_model import LinearRegression, Ridge, Lasso\n",
    "from sklearn.neighbors import KNeighborsRegressor\n",
    "from sklearn.tree import DecisionTreeRegressor\n",
    "from sklearn.ensemble import RandomForestRegressor\n",
    "\n",
    "# Évaluation des modèles\n",
    "from sklearn.metrics import make_scorer, r2_score, mean_squared_error\n",
    "from scipy.stats import spearmanr\n",
    "\n",
    "# Validation croisée et recherche de modèle\n",
    "from sklearn.model_selection import train_test_split, GridSearchCV, RandomizedSearchCV, KFold"
   ]
  },
  {
   "cell_type": "code",
   "execution_count": 2,
   "id": "d758be18-5626-4de0-b1d3-16f89c6dfb50",
   "metadata": {},
   "outputs": [],
   "source": [
    "raw_data_x = pd.read_csv(\"data/Data_X.csv\", index_col='ID')\n",
    "raw_dataNew_x = pd.read_csv(\"data/DataNew_X.csv\", index_col='ID')\n",
    "raw_data_y = pd.read_csv(\"data/Data_Y.csv\", index_col='ID')"
   ]
  },
  {
   "cell_type": "code",
   "execution_count": 3,
   "id": "4dd3653a-a0ff-4bef-80c6-07db250ed427",
   "metadata": {
    "ExecuteTime": {
     "end_time": "2023-05-02T01:18:49.175835Z",
     "start_time": "2023-05-02T01:18:49.150814Z"
    },
    "tags": []
   },
   "outputs": [],
   "source": [
    "data_xy = pd.merge(raw_data_x, raw_data_y, on='ID').copy()"
   ]
  },
  {
   "cell_type": "code",
   "execution_count": 4,
   "id": "6974bbad-5184-4ed4-8886-336ef6a09119",
   "metadata": {
    "ExecuteTime": {
     "end_time": "2023-05-02T01:18:49.185815Z",
     "start_time": "2023-05-02T01:18:49.166814Z"
    }
   },
   "outputs": [],
   "source": [
    "data_fr = data_xy.drop('COUNTRY', axis=1).copy()"
   ]
  },
  {
   "cell_type": "code",
   "execution_count": 5,
   "id": "68832ed4-0aa4-4bba-ad8c-3ce321ba5019",
   "metadata": {
    "ExecuteTime": {
     "end_time": "2023-05-02T01:18:49.216815Z",
     "start_time": "2023-05-02T01:18:49.184838Z"
    }
   },
   "outputs": [],
   "source": [
    "X = data_fr.drop('TARGET', axis=1)\n",
    "y = data_fr['TARGET']"
   ]
  },
  {
   "cell_type": "code",
   "execution_count": 6,
   "id": "f2420e98-4db6-4f19-b906-b78e47d27b43",
   "metadata": {
    "ExecuteTime": {
     "end_time": "2023-05-02T01:18:49.217816Z",
     "start_time": "2023-05-02T01:18:49.198815Z"
    }
   },
   "outputs": [],
   "source": [
    "X_train, X_test, y_train, y_test = train_test_split(X, y, test_size=0.2, random_state=42)"
   ]
  },
  {
   "cell_type": "code",
   "execution_count": 7,
   "id": "3691e4ae-17d1-42f3-a4f6-b9328817c13c",
   "metadata": {},
   "outputs": [
    {
     "name": "stdout",
     "output_type": "stream",
     "text": [
      "Fitting 5 folds for each of 150 candidates, totalling 750 fits\n"
     ]
    },
    {
     "data": {
      "text/plain": [
       "GridSearchCV(estimator=Pipeline(steps=[('imputer', SimpleImputer()),\n",
       "                                       ('scaler', RobustScaler()),\n",
       "                                       ('model', Lasso())]),\n",
       "             n_jobs=-1,\n",
       "             param_grid={'imputer__fill_value': [None],\n",
       "                         'imputer__strategy': ['mean', 'median', 'constant'],\n",
       "                         'model__alpha': [0.001, 0.0013257113655901094,\n",
       "                                          0.0017575106248547913,\n",
       "                                          0.002329951810515372,\n",
       "                                          0.0030888435964774815,\n",
       "                                          0.004094915062380427,\n",
       "                                          0.00542...\n",
       "                                          0.03906939937054617,\n",
       "                                          0.0517947467923121,\n",
       "                                          0.06866488450043001,\n",
       "                                          0.09102981779915217,\n",
       "                                          0.1206792640639329,\n",
       "                                          0.15998587196060574,\n",
       "                                          0.21209508879201905,\n",
       "                                          0.28117686979742307,\n",
       "                                          0.3727593720314938,\n",
       "                                          0.49417133613238334,\n",
       "                                          0.655128556859551, 0.868511373751352,\n",
       "                                          1.151395399326447, 1.5264179671752334,\n",
       "                                          2.023589647725158, 2.6826957952797246,\n",
       "                                          3.5564803062231287, ...]},\n",
       "             scoring='r2', verbose=1)"
      ]
     },
     "execution_count": 7,
     "metadata": {},
     "output_type": "execute_result"
    }
   ],
   "source": [
    "pipeline = Pipeline([\n",
    "    ('imputer', SimpleImputer()),\n",
    "    ('scaler', RobustScaler()),\n",
    "    ('model', Lasso())\n",
    "])\n",
    "\n",
    "param_grid = {\n",
    "    'imputer__strategy': ['mean', 'median', 'constant'],\n",
    "    'imputer__fill_value': [None],\n",
    "    \n",
    "    # 'imputer__strategy': ['mean', 'median', 'constante'],\n",
    "    # 'imputer_fill_value': [None],\n",
    "    'model__alpha': np.logspace(-3, 3).tolist()\n",
    "}\n",
    "\n",
    "GS = GridSearchCV(pipeline, param_grid, n_jobs=-1, scoring='r2', verbose=1)\n",
    "GS.fit(X_train, y_train)"
   ]
  },
  {
   "cell_type": "code",
   "execution_count": 8,
   "id": "696bacaa-751a-4cbe-a259-60e3f4f7f131",
   "metadata": {},
   "outputs": [
    {
     "data": {
      "text/plain": [
       "dict_keys(['mean_fit_time', 'std_fit_time', 'mean_score_time', 'std_score_time', 'param_imputer__fill_value', 'param_imputer__strategy', 'param_model__alpha', 'params', 'split0_test_score', 'split1_test_score', 'split2_test_score', 'split3_test_score', 'split4_test_score', 'mean_test_score', 'std_test_score', 'rank_test_score'])"
      ]
     },
     "execution_count": 8,
     "metadata": {},
     "output_type": "execute_result"
    }
   ],
   "source": [
    "cv_res = GS.cv_results_\n",
    "cv_res.keys()"
   ]
  },
  {
   "cell_type": "code",
   "execution_count": 12,
   "id": "6c2dbbfc-1617-4d59-a3c0-271768cf101a",
   "metadata": {},
   "outputs": [],
   "source": [
    "cv_results_df = pd.DataFrame(GS.cv_results_)"
   ]
  },
  {
   "cell_type": "code",
   "execution_count": 13,
   "id": "4f8cc66e-50a0-4823-9626-51da4bbd3e27",
   "metadata": {},
   "outputs": [
    {
     "data": {
      "text/plain": [
       "(150,)"
      ]
     },
     "metadata": {},
     "output_type": "display_data"
    },
    {
     "data": {
      "text/plain": [
       "(150,)"
      ]
     },
     "metadata": {},
     "output_type": "display_data"
    },
    {
     "data": {
      "text/plain": [
       "(150,)"
      ]
     },
     "metadata": {},
     "output_type": "display_data"
    }
   ],
   "source": [
    "display(cv_res['mean_test_score'].shape)\n",
    "display(cv_res['rank_test_score'].shape)\n",
    "display(cv_res['std_test_score'].shape)\n"
   ]
  },
  {
   "cell_type": "code",
   "execution_count": 15,
   "id": "5656e133-e7ec-4c87-99e3-851932f5eb60",
   "metadata": {},
   "outputs": [
    {
     "data": {
      "text/plain": [
       "<AxesSubplot:>"
      ]
     },
     "execution_count": 15,
     "metadata": {},
     "output_type": "execute_result"
    },
    {
     "data": {
      "image/png": "[encoded data removed]",
      "text/plain": [
       "<Figure size 640x480 with 1 Axes>"
      ]
     },
     "metadata": {},
     "output_type": "display_data"
    }
   ],
   "source": [
    "cv_results_df['mean_test_score'].hist()\n",
    "cv_results_df['rank_test_score'].hist()\n",
    "cv_results_df['std_test_score'].hist()"
   ]
  },
  {
   "cell_type": "code",
   "execution_count": 13,
   "id": "245837b2-b94c-4602-9173-e782367ffb00",
   "metadata": {},
   "outputs": [
    {
     "data": {
      "text/plain": [
       "<AxesSubplot:>"
      ]
     },
     "execution_count": 13,
     "metadata": {},
     "output_type": "execute_result"
    },
    {
     "data": {
      "image/png": "[encoded data removed]",
      "text/plain": [
       "<Figure size 640x480 with 1 Axes>"
      ]
     },
     "metadata": {},
     "output_type": "display_data"
    }
   ],
   "source": [
    "cv_results_df['rank_test_score'].hist()"
   ]
  },
  {
   "cell_type": "code",
   "execution_count": 12,
   "id": "8b8a28e9-8525-4224-8dab-3cabff5c0c66",
   "metadata": {},
   "outputs": [
    {
     "data": {
      "text/plain": [
       "<AxesSubplot:>"
      ]
     },
     "execution_count": 12,
     "metadata": {},
     "output_type": "execute_result"
    },
    {
     "data": {
      "image/png": "[encoded data removed]",
      "text/plain": [
       "<Figure size 640x480 with 1 Axes>"
      ]
     },
     "metadata": {},
     "output_type": "display_data"
    }
   ],
   "source": [
    "cv_results_df['mean_test_score'].hist()"
   ]
  },
  {
   "cell_type": "code",
   "execution_count": null,
   "id": "a60a2c85-0703-410a-bc3b-417349bdda5f",
   "metadata": {},
   "outputs": [],
   "source": []
  }
 ],
 "metadata": {
  "kernelspec": {
   "display_name": "Python 3 (ipykernel)",
   "language": "python",
   "name": "python3"
  },
  "language_info": {
   "codemirror_mode": {
    "name": "ipython",
    "version": 3
   },
   "file_extension": ".py",
   "mimetype": "text/x-python",
   "name": "python",
   "nbconvert_exporter": "python",
   "pygments_lexer": "ipython3",
   "version": "3.9.13"
  }
 },
 "nbformat": 4,
 "nbformat_minor": 5
}
