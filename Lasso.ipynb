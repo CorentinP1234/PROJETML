{
 "cells": [
  {
   "cell_type": "code",
   "execution_count": 42,
   "id": "6db3f65d-1997-43e0-b91b-6b560e70d967",
   "metadata": {
    "ExecuteTime": {
     "end_time": "2023-05-02T01:18:49.161848Z",
     "start_time": "2023-05-02T01:18:49.105043Z"
    }
   },
   "outputs": [],
   "source": [
    "import numpy as np\n",
    "import pandas as pd\n",
    "import matplotlib.pyplot as plt\n",
    "import seaborn as sns\n",
    "from pprint import pformat\n",
    "\n",
    "# Prétraitement des données\n",
    "from sklearn.impute import SimpleImputer\n",
    "from sklearn.preprocessing import StandardScaler, MinMaxScaler, RobustScaler\n",
    "from sklearn.feature_selection import SelectKBest, f_regression\n",
    "from sklearn.pipeline import Pipeline\n",
    "\n",
    "# Modèles\n",
    "from sklearn.linear_model import LinearRegression, Ridge, Lasso\n",
    "from sklearn.neighbors import KNeighborsRegressor\n",
    "from sklearn.tree import DecisionTreeRegressor\n",
    "from sklearn.ensemble import RandomForestRegressor\n",
    "\n",
    "# Évaluation des modèles\n",
    "from sklearn.metrics import make_scorer, r2_score, mean_squared_error\n",
    "from scipy.stats import spearmanr\n",
    "\n",
    "# Validation croisée et recherche de modèle\n",
    "from sklearn.model_selection import train_test_split, GridSearchCV, RandomizedSearchCV, KFold"
   ]
  },
  {
   "cell_type": "markdown",
   "id": "a87f2aa2-0e18-4d32-89f7-10356a8ba59e",
   "metadata": {},
   "source": [
    "# France"
   ]
  },
  {
   "cell_type": "code",
   "execution_count": 23,
   "id": "29ce5d15-dfff-486a-b0da-37778e6f3c76",
   "metadata": {},
   "outputs": [
    {
     "data": {
      "text/plain": [
       "(680, 39)"
      ]
     },
     "execution_count": 23,
     "metadata": {},
     "output_type": "execute_result"
    }
   ],
   "source": [
    "data_fr = pd.read_csv('data/Data_FR.csv', index_col='ID')\n",
    "data_fr.shape"
   ]
  },
  {
   "cell_type": "code",
   "execution_count": 24,
   "id": "50d2ec63-a4a8-4286-ae40-19d13a6b25aa",
   "metadata": {},
   "outputs": [
    {
     "data": {
      "text/plain": [
       "Index(['DE_CONSUMPTION', 'FR_CONSUMPTION', 'DE_FR_EXCHANGE', 'FR_DE_EXCHANGE',\n",
       "       'DE_NET_EXPORT', 'FR_NET_EXPORT', 'DE_NET_IMPORT', 'FR_NET_IMPORT',\n",
       "       'DE_GAS', 'FR_GAS', 'DE_COAL', 'FR_COAL', 'DE_HYDRO', 'FR_HYDRO',\n",
       "       'DE_NUCLEAR', 'FR_NUCLEAR', 'DE_SOLAR', 'FR_SOLAR', 'DE_WINDPOW',\n",
       "       'FR_WINDPOW', 'DE_LIGNITE', 'DE_RESIDUAL_LOAD', 'FR_RESIDUAL_LOAD',\n",
       "       'DE_RAIN', 'FR_RAIN', 'DE_WIND', 'FR_WIND', 'DE_TEMP', 'FR_TEMP',\n",
       "       'GAS_RET', 'COAL_RET', 'CARBON_RET', 'TARGET', 'FR_PROD_RENEWABLE',\n",
       "       'DE_PROD_RENEWABLE', 'DE_PROD_FOSIL', 'FR_PROD_FOSSIL',\n",
       "       'FR_CONS_RENEWABLE', 'DE_CONS_RENEWABLE'],\n",
       "      dtype='object')"
      ]
     },
     "execution_count": 24,
     "metadata": {},
     "output_type": "execute_result"
    }
   ],
   "source": [
    "data_fr.columns"
   ]
  },
  {
   "cell_type": "code",
   "execution_count": 25,
   "id": "08797a9d-8965-469f-86f2-119aeafca2de",
   "metadata": {},
   "outputs": [],
   "source": [
    "X = data_fr.drop('TARGET', axis=1)\n",
    "y = data_fr['TARGET']"
   ]
  },
  {
   "cell_type": "code",
   "execution_count": 1,
   "id": "4e24efd7-f3dc-4de2-b01a-2aa5c1982c6d",
   "metadata": {},
   "outputs": [
    {
     "ename": "IndentationError",
     "evalue": "expected an indented block (274735939.py, line 1)",
     "output_type": "error",
     "traceback": [
      "\u001b[1;36m  File \u001b[1;32m\"C:\\Users\\coren\\AppData\\Local\\Temp\\ipykernel_936\\274735939.py\"\u001b[1;36m, line \u001b[1;32m1\u001b[0m\n\u001b[1;33m    def grid_search_cv_function(estimator, param_grid, X, y, scoring, cv=5):\u001b[0m\n\u001b[1;37m                                                                            ^\u001b[0m\n\u001b[1;31mIndentationError\u001b[0m\u001b[1;31m:\u001b[0m expected an indented block\n"
     ]
    }
   ],
   "source": [
    "def grid_search_cv_function(estimator, param_grid, X, y, scoring, cv=5):\n",
    "    grid_search = GridSearchCV(estimator=estimator, param_grid = parma_grid, scoring=scoring, cv=cv"
   ]
  },
  {
   "cell_type": "code",
   "execution_count": null,
   "id": "e2a989f9-179e-4e72-b967-76f600b788d8",
   "metadata": {},
   "outputs": [],
   "source": []
  }
 ],
 "metadata": {
  "kernelspec": {
   "display_name": "Python 3 (ipykernel)",
   "language": "python",
   "name": "python3"
  },
  "language_info": {
   "codemirror_mode": {
    "name": "ipython",
    "version": 3
   },
   "file_extension": ".py",
   "mimetype": "text/x-python",
   "name": "python",
   "nbconvert_exporter": "python",
   "pygments_lexer": "ipython3",
   "version": "3.9.13"
  }
 },
 "nbformat": 4,
 "nbformat_minor": 5
}
