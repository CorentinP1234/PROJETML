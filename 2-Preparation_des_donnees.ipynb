{
 "cells": [
  {
   "cell_type": "markdown",
   "id": "0940dee3-da11-4856-8bbe-709487661238",
   "metadata": {
    "tags": []
   },
   "source": [
    "## 3 Preparation des donnees\n",
    "En fonction du type du probleme et les objectifs a atteindre, la preparation des donn´ees comporte g´en´eralement\n",
    "les taches suivantes : \n",
    " * Fusion des ensembles et/ou enregistrements de donn´ees\n",
    " * S´election d’un sous-ensemble de donn´ees\n",
    "* calcul de nouveaux attributs\n",
    "* Tri des donn´ees en vue de la mod´elisation\n",
    "* Suppression ou remplacement des blancs ou des valeurs manquantes\n",
    "* Fractionnement en sous-ensembles d’apprentissage et de test\n",
    "Dans le cadre de ce projet, nous vous demandons en particulier de :\n",
    "* V´erifier s’il y a des valeurs manquantes dans les donn´ees.\n",
    "* V´erifier si les valeurs des diff´erents attributs sont comparables\n",
    " \n",
    "Remarque. Vous pouvez toujours proposer d’autres traitements mais il faudra expliquer a chaque fois. Pour \n",
    "bien maˆıtriser cette phase, je vous invite a consulter le lien suivant :  Data Preparation with pandas\n",
    "https://www.datacamp.com/tutorial/data-preparation-with-pandas"
   ]
  },
  {
   "cell_type": "code",
   "execution_count": null,
   "id": "e6a943d6-f0f9-4b23-9cb0-1c3c164b797a",
   "metadata": {},
   "outputs": [],
   "source": []
  }
 ],
 "metadata": {
  "kernelspec": {
   "display_name": "Python 3 (ipykernel)",
   "language": "python",
   "name": "python3"
  },
  "language_info": {
   "codemirror_mode": {
    "name": "ipython",
    "version": 3
   },
   "file_extension": ".py",
   "mimetype": "text/x-python",
   "name": "python",
   "nbconvert_exporter": "python",
   "pygments_lexer": "ipython3",
   "version": "3.9.13"
  }
 },
 "nbformat": 4,
 "nbformat_minor": 5
}
