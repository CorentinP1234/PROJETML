{
 "cells": [
  {
   "cell_type": "markdown",
   "id": "0940dee3-da11-4856-8bbe-709487661238",
   "metadata": {
    "tags": []
   },
   "source": [
    "## 2 Preparation des donnees\n",
    "En fonction du type du probleme et les objectifs a atteindre, la preparation des donn´ees comporte g´en´eralement\n",
    "les taches suivantes : \n",
    " * Fusion des ensembles et/ou enregistrements de donn´ees\n",
    " * S´election d’un sous-ensemble de donn´ees\n",
    "* calcul de nouveaux attributs\n",
    "* Tri des donn´ees en vue de la mod´elisation\n",
    "* Suppression ou remplacement des blancs ou des valeurs manquantes\n",
    "* Fractionnement en sous-ensembles d’apprentissage et de test\n",
    "Dans le cadre de ce projet, nous vous demandons en particulier de :\n",
    "* V´erifier s’il y a des valeurs manquantes dans les donn´ees.\n",
    "* V´erifier si les valeurs des diff´erents attributs sont comparables\n",
    " \n",
    "Remarque. Vous pouvez toujours proposer d’autres traitements mais il faudra expliquer a chaque fois. Pour \n",
    "bien maˆıtriser cette phase, je vous invite a consulter le lien suivant :  Data Preparation with pandas\n",
    "https://www.datacamp.com/tutorial/data-preparation-with-pandas"
   ]
  },
  {
   "cell_type": "markdown",
   "id": "d906104b-f1cb-4b0d-9d98-3d965d0a60be",
   "metadata": {},
   "source": [
    "# Imports "
   ]
  },
  {
   "cell_type": "code",
   "execution_count": 1,
   "id": "2f4d1dc1-5db2-4e9b-8dda-01af7a806947",
   "metadata": {},
   "outputs": [],
   "source": [
    "import pandas as pd"
   ]
  },
  {
   "cell_type": "markdown",
   "id": "5304b5cb-a92f-4ec2-a509-9a6382d83026",
   "metadata": {},
   "source": [
    "# Chargement des données"
   ]
  },
  {
   "cell_type": "code",
   "execution_count": 2,
   "id": "6aca19cc-0296-4ecf-af38-efe6a07dc71a",
   "metadata": {},
   "outputs": [],
   "source": [
    "raw_data_x = pd.read_csv(\"data/Data_X.csv\", index_col='ID')\n",
    "raw_dataNew_x = pd.read_csv(\"data/DataNew_X.csv\", index_col='ID')\n",
    "raw_data_y = pd.read_csv(\"data/Data_Y.csv\", index_col='ID')"
   ]
  },
  {
   "cell_type": "markdown",
   "id": "dd5bac3d-aafc-4aa5-ae85-6f80da1c8d15",
   "metadata": {},
   "source": [
    "# Selection du sous-ensemble de données"
   ]
  },
  {
   "cell_type": "code",
   "execution_count": 3,
   "id": "20425601-2659-48a4-a5c3-84c9e47b49a5",
   "metadata": {},
   "outputs": [],
   "source": [
    "data_xy = pd.merge(raw_data_x, raw_data_y, on='ID')"
   ]
  },
  {
   "cell_type": "code",
   "execution_count": 4,
   "id": "78153ddf-f9e8-4459-8baa-01994da66214",
   "metadata": {},
   "outputs": [
    {
     "data": {
      "text/plain": [
       "(1494, 35)"
      ]
     },
     "execution_count": 4,
     "metadata": {},
     "output_type": "execute_result"
    }
   ],
   "source": [
    "data_xy.shape"
   ]
  },
  {
   "cell_type": "markdown",
   "id": "81c61bcf-5318-48ea-8349-c4ee0dbca39a",
   "metadata": {},
   "source": [
    "Notre ensemble de données est composé de 1494 lignes et de 35 colonnes."
   ]
  },
  {
   "cell_type": "markdown",
   "id": "36bfe565-bf62-40ae-af6d-b1344546666e",
   "metadata": {},
   "source": [
    "# Verification des valeurs manquantes"
   ]
  },
  {
   "cell_type": "code",
   "execution_count": 5,
   "id": "10e1fde4-31ec-4b3c-94ce-4395ce8d789f",
   "metadata": {},
   "outputs": [
    {
     "data": {
      "text/plain": [
       "1002"
      ]
     },
     "execution_count": 5,
     "metadata": {},
     "output_type": "execute_result"
    }
   ],
   "source": [
    "data_xy.isna().sum().sum()"
   ]
  },
  {
   "cell_type": "markdown",
   "id": "a7d5f65f-cd79-461b-a293-5bea22dc07ac",
   "metadata": {},
   "source": [
    "Il y a 1002 valeurs manquantes."
   ]
  },
  {
   "cell_type": "markdown",
   "id": "a6820d95-5d0d-4f20-9cd1-025b71a38f11",
   "metadata": {},
   "source": [
    "## Verification des variables"
   ]
  },
  {
   "cell_type": "code",
   "execution_count": 7,
   "id": "32deaf0e-0807-4b26-9fe1-216ffd374d22",
   "metadata": {},
   "outputs": [
    {
     "data": {
      "text/plain": [
       "DE_FR_EXCHANGE     25\n",
       "FR_DE_EXCHANGE     25\n",
       "DE_NET_EXPORT     124\n",
       "FR_NET_EXPORT      70\n",
       "DE_NET_IMPORT     124\n",
       "FR_NET_IMPORT      70\n",
       "DE_RAIN            94\n",
       "FR_RAIN            94\n",
       "DE_WIND            94\n",
       "FR_WIND            94\n",
       "DE_TEMP            94\n",
       "FR_TEMP            94\n",
       "dtype: int64"
      ]
     },
     "execution_count": 7,
     "metadata": {},
     "output_type": "execute_result"
    }
   ],
   "source": [
    "missing_values_cols = data_xy.isna().sum()\n",
    "missing_values_cols = missing_values_cols[missing_values_cols != 0]\n",
    "missing_values_cols"
   ]
  },
  {
   "cell_type": "markdown",
   "id": "85b218bf-dd7d-4051-8171-02f84a2143d4",
   "metadata": {},
   "source": [
    "On observe que 12 variables possédent des valeurs manquantes.\n",
    "Au plus il manque 8% (na/total = 124/1494) valeurs pour une variable.\n",
    "De plus, on observe des groupes de variables mesuré ensemble, c'est-a-dire, si une de ces variables est manquantes les autres variables du meme groupe seront manquantes aussi.<br> On observe les groupes suivant :\n",
    "- `DE_FR_EXCHANGE` et `FR_DE_EXCHANGE` : Si l'echange entre la France et l'Allemangne n'est pas mesuré ces deux variables seront manquantes.\n",
    "- `X_NET_IMPORT` et `X_NET_EXPORT` : Il se peut que pour certain jour les mesures de l'import et l'export ne soit pas disponibles pour un pays en particulier.\n",
    "-  `FR_RAIN`, `FR_WIND`, `FR_TEMP`, `DE_RAIN`, `DE_WIND`, `DE_TEMP` :  Il se peut que pour certain jour les mesures météorologiques ne soit pas disponibles pour les deux pays."
   ]
  },
  {
   "cell_type": "markdown",
   "id": "9169fcf4-4da8-4d75-a94d-bfdee5c857ae",
   "metadata": {},
   "source": [
    "## Vérification des lignes"
   ]
  },
  {
   "cell_type": "code",
   "execution_count": 31,
   "id": "8f1252b2-f623-453f-8d12-47df5e8c3cb7",
   "metadata": {},
   "outputs": [
    {
     "name": "stdout",
     "output_type": "stream",
     "text": [
      "Nous avons 218 lignes contenant des valeurs manquantes\n"
     ]
    }
   ],
   "source": [
    "missing_values_rows = data_xy.isna().sum(axis=1)\n",
    "missing_values_rows = missing_values_rows[missing_values_rows != 0]\n",
    "print(f\"Nous avons {len(missing_values_rows)} lignes contenant des valeurs manquantes\")"
   ]
  },
  {
   "cell_type": "code",
   "execution_count": 9,
   "id": "1086d1a9-b884-4e90-8809-52fcbe611a2b",
   "metadata": {},
   "outputs": [
    {
     "name": "stdout",
     "output_type": "stream",
     "text": [
      "Minimum de valeurs manquantes par ligne :  2\n",
      "Maximum de valeurs manquantes par ligne :  6\n"
     ]
    }
   ],
   "source": [
    "min_missing_values_row = missing_values_rows.min()\n",
    "max_missing_values_row = missing_values_rows.max()\n",
    "print(\"Minimum de valeurs manquantes par ligne : \", min_missing_values_row)\n",
    "print(\"Maximum de valeurs manquantes par ligne : \", max_missing_values_row)"
   ]
  },
  {
   "cell_type": "markdown",
   "id": "f3cee015-bd76-47d7-ab06-b7290c997cb8",
   "metadata": {},
   "source": [
    "### Regardons les variables manquantes dans une ligne contenant un minimum de valeurs manquantes"
   ]
  },
  {
   "cell_type": "code",
   "execution_count": 24,
   "id": "80376ba8-220d-4b60-8f69-2c06dfdca1da",
   "metadata": {},
   "outputs": [
    {
     "data": {
      "text/plain": [
       "DE_NET_EXPORT    True\n",
       "DE_NET_IMPORT    True\n",
       "Name: 1054, dtype: bool"
      ]
     },
     "execution_count": 24,
     "metadata": {},
     "output_type": "execute_result"
    }
   ],
   "source": [
    "min_idx = missing_values_rows.idxmin()\n",
    "min_missing_variables = data_xy.loc[min_idx].isna()\n",
    "min_missing_variables = min_missing_variables[min_missing_variables == True]\n",
    "min_missing_variables"
   ]
  },
  {
   "cell_type": "markdown",
   "id": "d6d81561-937a-4dd2-9077-4e0159162699",
   "metadata": {},
   "source": [
    "En regardant une ligne contenant un minimum (non nulle) de valeurs manquantes, on observe le groupe `DE_NET_EXPORT` et `DE_NET_IMPORT`."
   ]
  },
  {
   "cell_type": "markdown",
   "id": "96a7f5a6-d4b2-4dfb-b981-7a37b8461b95",
   "metadata": {},
   "source": [
    "### Regardons les variables manquantes dans une ligne contenant un minimum de valeurs manquantes"
   ]
  },
  {
   "cell_type": "code",
   "execution_count": 39,
   "id": "161a783c-9642-413b-9b8f-e4d09f783bb2",
   "metadata": {},
   "outputs": [
    {
     "data": {
      "text/plain": [
       "DE_RAIN    True\n",
       "FR_RAIN    True\n",
       "DE_WIND    True\n",
       "FR_WIND    True\n",
       "DE_TEMP    True\n",
       "FR_TEMP    True\n",
       "Name: 1715, dtype: bool"
      ]
     },
     "execution_count": 39,
     "metadata": {},
     "output_type": "execute_result"
    }
   ],
   "source": [
    "max_idx = missing_values_rows.nlargest(2).index\n",
    "max_missing_variables = data_xy.loc[max_idx[1]].isna()\n",
    "max_missing_variables = max_missing_variables[max_missing_variables == True]\n",
    "max_missing_variables"
   ]
  },
  {
   "cell_type": "markdown",
   "id": "59d3754f-33cf-4e48-b546-6aa2e30c21ea",
   "metadata": {},
   "source": [
    "En regardant une ligne contenant un minimum (non nulle) de valeurs manquantes, on observe le groupe des mesures météoroliques pour les deux pays.\n",
    "\n",
    "<br>\n",
    "On observe des variables manquantes dans "
   ]
  },
  {
   "cell_type": "markdown",
   "id": "3f7ebdba-c31f-43b1-abac-5ccd2e520b74",
   "metadata": {},
   "source": [
    "# Verification de la comparabilité "
   ]
  },
  {
   "cell_type": "code",
   "execution_count": null,
   "id": "508defc7-05ac-4312-beab-c928aaf6c26e",
   "metadata": {},
   "outputs": [],
   "source": []
  },
  {
   "cell_type": "markdown",
   "id": "31dae528-67f7-4cc9-b214-57bb6b3d38d2",
   "metadata": {},
   "source": [
    "# Calcul de nouveaux attributs"
   ]
  },
  {
   "cell_type": "code",
   "execution_count": null,
   "id": "88c1e1ab-482c-4221-9650-b8961963a152",
   "metadata": {},
   "outputs": [],
   "source": []
  },
  {
   "cell_type": "markdown",
   "id": "a49f00d6-2758-4b03-b4bf-9fd8acf5720b",
   "metadata": {},
   "source": [
    "# Factionnement en sous-ensembles d'apprentissage et de test"
   ]
  },
  {
   "cell_type": "code",
   "execution_count": null,
   "id": "99cc9f71-cd91-4d17-9269-baf2dec850e8",
   "metadata": {},
   "outputs": [],
   "source": [
    "df['E_renouvelable'] = df['FR_SOLAR'] + df['FR_HYDRO'] + df['FR_WINDPOW'] + df['FR_NUCLEAR']"
   ]
  },
  {
   "cell_type": "code",
   "execution_count": null,
   "id": "ef2a0e91-a081-4a0c-8bcb-3cc3caf0b0ae",
   "metadata": {},
   "outputs": [],
   "source": [
    "df['E_renouvelable2'] = df['FR_CONSUMPTION'] - df['FR_RESIDUAL_LOAD']"
   ]
  },
  {
   "cell_type": "code",
   "execution_count": null,
   "id": "e700a224-ba42-4919-8f0d-c4b01f914efe",
   "metadata": {},
   "outputs": [],
   "source": [
    "df['E_renouvelable'].mean()"
   ]
  },
  {
   "cell_type": "code",
   "execution_count": null,
   "id": "9e7c2d8d-d6c9-47d9-8eba-0b7e5bd21154",
   "metadata": {},
   "outputs": [],
   "source": [
    "df['E_renouvelable2'].mean()"
   ]
  },
  {
   "cell_type": "code",
   "execution_count": null,
   "id": "c4265b83-2ac9-445d-8a03-42efcf8362a6",
   "metadata": {},
   "outputs": [],
   "source": [
    "data_xy.describe()"
   ]
  },
  {
   "cell_type": "code",
   "execution_count": null,
   "id": "340e7ac1-6047-4b76-a40c-9b307002d27b",
   "metadata": {},
   "outputs": [],
   "source": []
  }
 ],
 "metadata": {
  "kernelspec": {
   "display_name": "Python 3 (ipykernel)",
   "language": "python",
   "name": "python3"
  },
  "language_info": {
   "codemirror_mode": {
    "name": "ipython",
    "version": 3
   },
   "file_extension": ".py",
   "mimetype": "text/x-python",
   "name": "python",
   "nbconvert_exporter": "python",
   "pygments_lexer": "ipython3",
   "version": "3.9.13"
  }
 },
 "nbformat": 4,
 "nbformat_minor": 5
}
