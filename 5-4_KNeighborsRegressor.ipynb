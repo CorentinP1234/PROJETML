{
 "cells": [
  {
   "cell_type": "code",
   "execution_count": 1,
   "id": "8110704d",
   "metadata": {},
   "outputs": [],
   "source": [
    "import numpy as np\n",
    "import pandas as pd\n",
    "import matplotlib.pyplot as plt\n",
    "import seaborn as sns\n",
    "\n",
    "from sklearn.impute import SimpleImputer\n",
    "from sklearn.preprocessing import StandardScaler, MinMaxScaler, RobustScaler\n",
    "from sklearn.pipeline import Pipeline\n",
    "from sklearn.neighbors import KNeighborsRegressor\n",
    "from sklearn.model_selection import train_test_split, GridSearchCV\n",
    "\n",
    "## Fonctions créé pour l'evalutaion des modèles (voir print_test_results.py) :\n",
    "\n",
    "# Recupère et Affiche le meilleur modèle trouvé par GridSearch\n",
    "from print_test_results import get_test_results, print_test_results\n",
    "# Plot les predictions face aux valeurs attendues\n",
    "from print_test_results import plot_scatter_predictions\n",
    "# Affiche l'importance (coef_ ou feature_importances_) du meilleur modèle\n",
    "from print_test_results import plot_top_coefficients_or_importances\n",
    "# Compare les resultats des meilleurs modèles FR et DE \n",
    "from print_test_results import get_comparison_table\n",
    "from IPython.display import Markdown"
   ]
  },
  {
   "cell_type": "markdown",
   "id": "6d580e3d-35e5-4a86-9b6f-0e99d8a8be12",
   "metadata": {},
   "source": [
    "# KNeighborsRegressor"
   ]
  },
  {
   "cell_type": "markdown",
   "id": "5175a6c2-77d4-4efa-a273-4788e36f2216",
   "metadata": {},
   "source": [
    "Nous utlisons la classe `GridSearchCV` pour trouver la combinaison de *Transformers* et d'hyperparametres donnant les meilleurs resultats. "
   ]
  },
  {
   "cell_type": "markdown",
   "id": "a6277d39-c098-4932-9309-a416b6f5d939",
   "metadata": {},
   "source": [
    "GridSearchCV est une méthode de validation croisée pour sélectionner les meilleurs hyperparamètres d'un modèle d'apprentissage automatique en évaluant les performances de celui-ci sur un ensemble de paramètres prédéfinis. Elle effectue une recherche exhaustive de tous les paramètres spécifiés dans une grille prédéfinie afin d'identifier la combinaison optimale de paramètres pour le modèle."
   ]
  },
  {
   "cell_type": "markdown",
   "id": "339c1a94-6b1a-4d8d-9194-0604995c2da4",
   "metadata": {},
   "source": [
    "Nous allons utiliser la classe `Pipeline` pour eviter la fuite de données de l'ensemble de test sur l'entrainement des modèles.\n",
    "De plus `Pipeline` nous permet de faire varier les hyperparametres mais aussi les transformers lors de la recherche exhaustive effectuée par GridSearch."
   ]
  },
  {
   "cell_type": "code",
   "execution_count": 2,
   "id": "58f6716b-2548-43ca-ac96-332b1d59447e",
   "metadata": {},
   "outputs": [],
   "source": [
    "pipeline = Pipeline([\n",
    "    ('imputer', SimpleImputer()),\n",
    "    ('scaler', None),\n",
    "    ('model', KNeighborsRegressor())\n",
    "])"
   ]
  },
  {
   "cell_type": "markdown",
   "id": "d410bb7c-1bed-4fde-93e2-9309aa13762d",
   "metadata": {},
   "source": [
    "Nous definissions maintennat les parametres a faire varier:\n",
    "- Trois façons de traiter les valeurs manquantes : les retirer ('constant' + fill_value = 'None'), ou les remplacer par le médiane ou la moyenne\n",
    "\n",
    "```python\n",
    "'imputer__strategy': ['constant', 'mean', 'median'],\n",
    "    'imputer__fill_value': [None],\n",
    "```\n",
    "\n",
    "- 2 mises a echelles : Standardisation, et une normalisation robuste face aux valeurs aberrantes (RobustScaler : soustraction par la médiane et divison par l'IQR)\n",
    "\n",
    "```python\n",
    "'scaler' :  [StandardScaler(), RobustScaler()],\n",
    "```\n",
    "\n",
    "- Differentes valeurs de K:\n",
    "```python\n",
    "'model__n_neighbors': range(1, 21),\n",
    "```\n",
    "- Differents calculs de distances : \n",
    "```python\n",
    "'model__metric': ['euclidean', 'manhattan', 'minkowski']\n",
    "```"
   ]
  },
  {
   "cell_type": "code",
   "execution_count": 3,
   "id": "40f859cb-bf5e-479a-83a3-ed7af64cb8a0",
   "metadata": {},
   "outputs": [],
   "source": [
    "param_grid = {\n",
    "    'imputer__strategy': ['constant', 'mean', 'median'],\n",
    "    'imputer__fill_value': [None],\n",
    "    'scaler' :  [StandardScaler(), RobustScaler()],\n",
    "    'model__n_neighbors': range(1, 21),\n",
    "    'model__metric': ['euclidean', 'manhattan', 'minkowski']\n",
    "}"
   ]
  },
  {
   "cell_type": "markdown",
   "id": "edb31e33-4215-4661-8cd0-3023b2b3fdd8",
   "metadata": {},
   "source": [
    "Nous evaluerons les modèles trouvés par `GridSearchCV` avec la coefficient de determination R2:"
   ]
  },
  {
   "cell_type": "code",
   "execution_count": 4,
   "id": "2eedf71d-f2ff-4409-8862-9f9319826892",
   "metadata": {},
   "outputs": [],
   "source": [
    "scoring = {\n",
    "    'r2' : 'r2',\n",
    "    'neg_root_mean_squared_error': 'neg_root_mean_squared_error'\n",
    "}"
   ]
  },
  {
   "cell_type": "markdown",
   "id": "fc10a7e1-a4e2-44a2-b5dc-b18c9b6d00e3",
   "metadata": {},
   "source": [
    "Les modèles seront evalué avec une 5 validation croisée"
   ]
  },
  {
   "cell_type": "code",
   "execution_count": 5,
   "id": "7a7a1e81-1a04-42b2-a75f-ed0864fb316a",
   "metadata": {},
   "outputs": [],
   "source": [
    "refit = 'r2'\n",
    "cv = 5"
   ]
  },
  {
   "cell_type": "markdown",
   "id": "8b4688b3-9be6-4add-aee0-5c9f3cb5205d",
   "metadata": {},
   "source": [
    "On recupere les configurations et les scores des meilleurs modéles de la France et de l'Allemange dans la variable `test_results`:"
   ]
  },
  {
   "cell_type": "code",
   "execution_count": 6,
   "id": "2465106e-1481-4c32-b97a-85b843a1cdd6",
   "metadata": {},
   "outputs": [],
   "source": [
    "test_results = {\n",
    "    'fr':{},\n",
    "    'de':{}\n",
    "}"
   ]
  },
  {
   "cell_type": "markdown",
   "id": "82181553",
   "metadata": {},
   "source": [
    "# France"
   ]
  },
  {
   "cell_type": "code",
   "execution_count": 7,
   "id": "829462dd",
   "metadata": {},
   "outputs": [
    {
     "data": {
      "text/plain": [
       "(680, 41)"
      ]
     },
     "execution_count": 7,
     "metadata": {},
     "output_type": "execute_result"
    }
   ],
   "source": [
    "data_fr = pd.read_csv('data/Data_FR.csv', index_col='ID')\n",
    "data_fr.shape"
   ]
  },
  {
   "cell_type": "code",
   "execution_count": 8,
   "id": "3cab138e",
   "metadata": {},
   "outputs": [],
   "source": [
    "X = data_fr.drop('TARGET', axis=1)\n",
    "y = data_fr['TARGET']\n",
    "title = 'KNeighborsRegressor FR'"
   ]
  },
  {
   "cell_type": "code",
   "execution_count": 9,
   "id": "db22a873",
   "metadata": {},
   "outputs": [
    {
     "name": "stdout",
     "output_type": "stream",
     "text": [
      "Fitting 5 folds for each of 360 candidates, totalling 1800 fits\n",
      "\n",
      "KNeighborsRegressor FR\n",
      " Best estimator: \n",
      "  imputer : SimpleImputer(strategy='constant')\n",
      "  scaler : StandardScaler()\n",
      "  model : KNeighborsRegressor(metric='manhattan', n_neighbors=20)\n",
      " Metrics:\n",
      "  rmse: 1.419\n",
      "  r2: -0.008\n",
      "  r2 ajusté: -0.432\n",
      "  spearman: 0.089\n",
      "Wall time: 7.26 s\n"
     ]
    }
   ],
   "source": [
    "%%time\n",
    "\n",
    "X_train, X_test, y_train, y_test = train_test_split(X, y, test_size=0.2, random_state=42)\n",
    "\n",
    "grid_search = GridSearchCV(pipeline, param_grid, scoring=scoring, cv=cv, refit=refit, n_jobs=-1, verbose=1)\n",
    "grid_search.fit(X_train, y_train)\n",
    "\n",
    "y_pred = grid_search.predict(X_test)\n",
    "\n",
    "test_results['fr'] = get_test_results(grid_search, X_test, y_test, y_pred)\n",
    "print_test_results(test_results['fr'], refit, title=title)"
   ]
  },
  {
   "cell_type": "code",
   "execution_count": 10,
   "id": "d82b681d-5a2d-4b44-bc50-4c097c100c57",
   "metadata": {},
   "outputs": [
    {
     "data": {
      "image/png": "[encoded data removed]",
      "text/plain": [
       "<Figure size 640x480 with 1 Axes>"
      ]
     },
     "metadata": {},
     "output_type": "display_data"
    }
   ],
   "source": [
    "plot_scatter_predictions(y_test, y_pred, title=title)"
   ]
  },
  {
   "cell_type": "markdown",
   "id": "66520c02",
   "metadata": {},
   "source": [
    "# Allemagne"
   ]
  },
  {
   "cell_type": "code",
   "execution_count": 11,
   "id": "1b37bd4c",
   "metadata": {},
   "outputs": [
    {
     "data": {
      "text/plain": [
       "(596, 41)"
      ]
     },
     "execution_count": 11,
     "metadata": {},
     "output_type": "execute_result"
    }
   ],
   "source": [
    "data_de = pd.read_csv('data/Data_DE.csv', index_col='ID')\n",
    "data_de.shape"
   ]
  },
  {
   "cell_type": "code",
   "execution_count": 12,
   "id": "5dbc2ea3",
   "metadata": {},
   "outputs": [],
   "source": [
    "X = data_de.drop('TARGET', axis=1)\n",
    "y = data_de['TARGET']\n",
    "title = 'KNeighborsRegressor DE'"
   ]
  },
  {
   "cell_type": "code",
   "execution_count": 13,
   "id": "b7e099d9",
   "metadata": {},
   "outputs": [
    {
     "name": "stdout",
     "output_type": "stream",
     "text": [
      "Fitting 5 folds for each of 360 candidates, totalling 1800 fits\n",
      "\n",
      "KNeighborsRegressor DE\n",
      " Best estimator: \n",
      "  imputer : SimpleImputer(strategy='constant')\n",
      "  scaler : RobustScaler()\n",
      "  model : KNeighborsRegressor(metric='euclidean', n_neighbors=20)\n",
      " Metrics:\n",
      "  rmse: 1.054\n",
      "  r2: 0.024\n",
      "  r2 ajusté: -0.47\n",
      "  spearman: 0.274\n",
      "Wall time: 3 s\n"
     ]
    }
   ],
   "source": [
    "%%time\n",
    "\n",
    "X_train, X_test, y_train, y_test = train_test_split(X, y, test_size=0.2, random_state=42)\n",
    "\n",
    "grid_search = GridSearchCV(pipeline, param_grid, scoring=scoring, cv=cv, refit=refit, n_jobs=-1, verbose=1)\n",
    "grid_search.fit(X_train, y_train)\n",
    "\n",
    "y_pred = grid_search.predict(X_test)\n",
    "\n",
    "test_results['de'] = get_test_results(grid_search, X_test, y_test, y_pred)\n",
    "print_test_results(test_results['de'], refit, title=title)"
   ]
  },
  {
   "cell_type": "code",
   "execution_count": 14,
   "id": "b73adc57-50ce-420d-ac6b-1c8ee5d2b4df",
   "metadata": {},
   "outputs": [
    {
     "data": {
      "image/png": "[encoded data removed]",
      "text/plain": [
       "<Figure size 640x480 with 1 Axes>"
      ]
     },
     "metadata": {},
     "output_type": "display_data"
    }
   ],
   "source": [
    "plot_scatter_predictions(y_test, y_pred, title=title)"
   ]
  },
  {
   "cell_type": "markdown",
   "id": "ff24aef5-da6c-4832-9f6d-3e5381eb4437",
   "metadata": {},
   "source": [
    "# Conclusion"
   ]
  },
  {
   "cell_type": "code",
   "execution_count": 15,
   "id": "1a45faf6-be9c-4e48-b9e9-f1f255dcc9b3",
   "metadata": {},
   "outputs": [
    {
     "data": {
      "text/markdown": [
       "| KNeighborsRegressor      | FR                                       | DE                                       |\n",
       "|-------------|--------------------------------------------|--------------------------------------------|\n",
       "| Imputer     | SimpleImputer(strategy='constant')   | SimpleImputer(strategy='constant')   |\n",
       "| Scaler      | StandardScaler()    | RobustScaler()    |\n",
       "| Model       | KNeighborsRegressor(metric='manhattan', n_neighbors=20)                                 | KNeighborsRegressor(metric='euclidean', n_neighbors=20)                                 |\n",
       "| RMSE        | 1.419               | 1.054               |\n",
       "| R2          | -0.008                 | 0.024                 |\n",
       "| R2 ajusté   | -0.432          | -0.47          |\n",
       "| Spearman    | 0.089           | 0.274           |"
      ],
      "text/plain": [
       "<IPython.core.display.Markdown object>"
      ]
     },
     "execution_count": 15,
     "metadata": {},
     "output_type": "execute_result"
    }
   ],
   "source": [
    "markdown_table = get_comparison_table(test_results, title='KNeighborsRegressor')\n",
    "Markdown(markdown_table)"
   ]
  },
  {
   "cell_type": "code",
   "execution_count": 16,
   "id": "177af3b9-1aca-40b2-a659-bd91587af336",
   "metadata": {},
   "outputs": [],
   "source": [
    "# store results \n",
    "# pickle fait partie de la bibliotheque standard python (built-in)\n",
    "import pickle\n",
    "\n",
    "with open('results/KNeighborsRegressor.pkl', 'wb') as f:\n",
    "    pickle.dump(test_results, f)"
   ]
  }
 ],
 "metadata": {
  "kernelspec": {
   "display_name": "Python 3 (ipykernel)",
   "language": "python",
   "name": "python3"
  },
  "language_info": {
   "codemirror_mode": {
    "name": "ipython",
    "version": 3
   },
   "file_extension": ".py",
   "mimetype": "text/x-python",
   "name": "python",
   "nbconvert_exporter": "python",
   "pygments_lexer": "ipython3",
   "version": "3.9.13"
  }
 },
 "nbformat": 4,
 "nbformat_minor": 5
}
