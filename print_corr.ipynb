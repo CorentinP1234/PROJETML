{
 "cells": [
  {
   "cell_type": "code",
   "execution_count": 9,
   "metadata": {
    "ExecuteTime": {
     "end_time": "2023-04-30T00:53:31.603797Z",
     "start_time": "2023-04-30T00:53:31.502201Z"
    },
    "collapsed": false,
    "jupyter": {
     "outputs_hidden": false
    }
   },
   "outputs": [],
   "source": [
    "def print_corr(data, col1, col2):\n",
    "    fr_col1 = 'FR_' + col1\n",
    "    fr_col2 = 'FR_' + col2\n",
    "    de_col1 = 'DE_' + col1\n",
    "    de_col2 = 'DE_' + col2\n",
    "    print(f'FR :{data[fr_col1].corr(data[fr_col2])}')\n",
    "    print(f'DE :{data[de_col1].corr(data[de_col2])}')"
   ]
  },
  {
   "cell_type": "code",
   "execution_count": 10,
   "metadata": {
    "ExecuteTime": {
     "end_time": "2023-04-30T00:53:31.603797Z",
     "start_time": "2023-04-30T00:53:31.518797Z"
    },
    "collapsed": false,
    "jupyter": {
     "outputs_hidden": false
    }
   },
   "outputs": [
    {
     "name": "stdout",
     "output_type": "stream",
     "text": [
      "FR :0.48230791044602545\n",
      "DE :0.4994261251504096\n"
     ]
    }
   ],
   "source": [
    "print_corr(df, 'WINDPOW', 'WIND')"
   ]
  },
  {
   "cell_type": "code",
   "execution_count": 11,
   "metadata": {
    "ExecuteTime": {
     "end_time": "2023-04-30T00:53:31.603797Z",
     "start_time": "2023-04-30T00:53:31.532794Z"
    },
    "collapsed": false,
    "jupyter": {
     "outputs_hidden": false
    }
   },
   "outputs": [
    {
     "name": "stdout",
     "output_type": "stream",
     "text": [
      "FR :0.08400347398215965\n",
      "DE :0.017759266170023102\n"
     ]
    }
   ],
   "source": [
    "print_corr(df, 'SOLAR', 'TEMP')"
   ]
  },
  {
   "cell_type": "code",
   "execution_count": 12,
   "metadata": {
    "ExecuteTime": {
     "end_time": "2023-04-30T00:53:31.603797Z",
     "start_time": "2023-04-30T00:53:31.546796Z"
    },
    "collapsed": false,
    "jupyter": {
     "outputs_hidden": false
    }
   },
   "outputs": [
    {
     "name": "stdout",
     "output_type": "stream",
     "text": [
      "FR :0.044477168124070515\n",
      "DE :-0.09729335244256555\n"
     ]
    }
   ],
   "source": [
    "print_corr(df, 'HYDRO', 'RAIN')"
   ]
  },
  {
   "cell_type": "code",
   "execution_count": 12,
   "metadata": {
    "ExecuteTime": {
     "end_time": "2023-04-30T00:53:31.603797Z",
     "start_time": "2023-04-30T00:53:31.561795Z"
    },
    "collapsed": false,
    "jupyter": {
     "outputs_hidden": false
    }
   },
   "outputs": [],
   "source": []
  }
 ],
 "metadata": {
  "kernelspec": {
   "display_name": "Python 3 (ipykernel)",
   "language": "python",
   "name": "python3"
  },
  "language_info": {
   "codemirror_mode": {
    "name": "ipython",
    "version": 3
   },
   "file_extension": ".py",
   "mimetype": "text/x-python",
   "name": "python",
   "nbconvert_exporter": "python",
   "pygments_lexer": "ipython3",
   "version": "3.9.13"
  }
 },
 "nbformat": 4,
 "nbformat_minor": 4
}
